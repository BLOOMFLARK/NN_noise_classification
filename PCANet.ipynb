{
 "cells": [
  {
   "cell_type": "markdown",
   "metadata": {},
   "source": [
    "## Идея заключается в том, чтобы в качестве свертки использовать не случайно инициализированную матрицу,  а матрицу посчитанную по всей трейн выборке с использованием PCA\n"
   ]
  },
  {
   "cell_type": "markdown",
   "metadata": {},
   "source": [
    "Статья: **Image noise types recognition using CNN with PCA**"
   ]
  },
  {
   "cell_type": "markdown",
   "metadata": {},
   "source": [
    "![title](img/pcanet.png)"
   ]
  },
  {
   "cell_type": "markdown",
   "metadata": {},
   "source": [
    "0. все изображения привести к виду (m, m) \n",
    "\n",
    "1. Пусть у нас N изображений каждая (m, m). Вытаскиваем из одного изображения патчи размера $(k_a, k_a)$ вокруг каждого пикселя со stride = 1 на $a$ той итерации. \n",
    "\n",
    "2. Центрируем патчи: для каждого патча вычисляем среднее и вычитаем из каждого элемента патча среднее значение, для i-того изображения:\n",
    "$\\overline{X_i} = [\\overline{x_1}, ..., \\overline{x_N}] \\subset \\mathbb{R}^{k^2 x m^2}$\n",
    "\n",
    "3. Проделываем это для N обучающих изображений: $X = [\\overline{X_1}, ..., \\overline{X_N}] \\subset \\mathbb{R}^{k^2 x Nm^2}$\n",
    "\n",
    "4. для $ XX^T$ находим L **первых собственных векторов**, каждый из которых имеет размерность $ \\mathbb{R}^{k^2}$, после этого делаем reshape до $ \\mathbb{R}^{k x k}$ и получаем L искомых фильтров"
   ]
  },
  {
   "cell_type": "markdown",
   "metadata": {},
   "source": [
    "Важно учесть, что первый фильтр работает с изображениями напрямую -> его можно просчитать заранее, в то время как остальные фильтры готовятся после предыдущего слоя!!!"
   ]
  },
  {
   "cell_type": "code",
   "execution_count": null,
   "metadata": {},
   "outputs": [],
   "source": []
  },
  {
   "cell_type": "code",
   "execution_count": 6,
   "metadata": {},
   "outputs": [
    {
     "data": {
      "text/plain": [
       "array([[ 0,  1,  2,  3,  4],\n",
       "       [ 5,  6,  7,  8,  9],\n",
       "       [10, 11, 12, 13, 14],\n",
       "       [15, 16, 17, 18, 19]])"
      ]
     },
     "execution_count": 6,
     "metadata": {},
     "output_type": "execute_result"
    }
   ],
   "source": [
    "test_image = np.arange(20).reshape(4,5)\n",
    "test_image"
   ]
  },
  {
   "cell_type": "code",
   "execution_count": 7,
   "metadata": {},
   "outputs": [
    {
     "data": {
      "text/plain": [
       "array([[ 0,  0,  0,  0,  0,  0,  0,  0,  0,  0,  0],\n",
       "       [ 0,  0,  0,  0,  0,  0,  0,  0,  0,  0,  0],\n",
       "       [ 0,  0,  0,  0,  0,  0,  0,  0,  0,  0,  0],\n",
       "       [ 0,  0,  0,  0,  1,  2,  3,  4,  0,  0,  0],\n",
       "       [ 0,  0,  0,  5,  6,  7,  8,  9,  0,  0,  0],\n",
       "       [ 0,  0,  0, 10, 11, 12, 13, 14,  0,  0,  0],\n",
       "       [ 0,  0,  0, 15, 16, 17, 18, 19,  0,  0,  0],\n",
       "       [ 0,  0,  0,  0,  0,  0,  0,  0,  0,  0,  0],\n",
       "       [ 0,  0,  0,  0,  0,  0,  0,  0,  0,  0,  0],\n",
       "       [ 0,  0,  0,  0,  0,  0,  0,  0,  0,  0,  0]])"
      ]
     },
     "execution_count": 7,
     "metadata": {},
     "output_type": "execute_result"
    }
   ],
   "source": [
    "np.pad(test_image, (3, 3), 'constant', constant_values=0)"
   ]
  },
  {
   "cell_type": "code",
   "execution_count": 42,
   "metadata": {},
   "outputs": [
    {
     "name": "stdout",
     "output_type": "stream",
     "text": [
      "[[ 0  0  0  0  0  0  0]\n",
      " [ 0  0  1  2  3  4  0]\n",
      " [ 0  5  6  7  8  9  0]\n",
      " [ 0 10 11 12 13 14  0]\n",
      " [ 0 15 16 17 18 19  0]\n",
      " [ 0  0  0  0  0  0  0]]\n",
      "[[0 0 0]\n",
      " [0 0 1]\n",
      " [0 5 6]]\n",
      "\n",
      "[[0 0 0]\n",
      " [0 1 2]\n",
      " [5 6 7]]\n",
      "\n",
      "[[0 0 0]\n",
      " [1 2 3]\n",
      " [6 7 8]]\n",
      "\n",
      "[[0 0 0]\n",
      " [2 3 4]\n",
      " [7 8 9]]\n",
      "\n",
      "[[0 0 0]\n",
      " [3 4 0]\n",
      " [8 9 0]]\n",
      "\n",
      "[[ 0  0  1]\n",
      " [ 0  5  6]\n",
      " [ 0 10 11]]\n",
      "\n",
      "[[ 0  1  2]\n",
      " [ 5  6  7]\n",
      " [10 11 12]]\n",
      "\n",
      "[[ 1  2  3]\n",
      " [ 6  7  8]\n",
      " [11 12 13]]\n",
      "\n",
      "[[ 2  3  4]\n",
      " [ 7  8  9]\n",
      " [12 13 14]]\n",
      "\n",
      "[[ 3  4  0]\n",
      " [ 8  9  0]\n",
      " [13 14  0]]\n",
      "\n",
      "[[ 0  5  6]\n",
      " [ 0 10 11]\n",
      " [ 0 15 16]]\n",
      "\n",
      "[[ 5  6  7]\n",
      " [10 11 12]\n",
      " [15 16 17]]\n",
      "\n",
      "[[ 6  7  8]\n",
      " [11 12 13]\n",
      " [16 17 18]]\n",
      "\n",
      "[[ 7  8  9]\n",
      " [12 13 14]\n",
      " [17 18 19]]\n",
      "\n",
      "[[ 8  9  0]\n",
      " [13 14  0]\n",
      " [18 19  0]]\n",
      "\n",
      "[[ 0 10 11]\n",
      " [ 0 15 16]\n",
      " [ 0  0  0]]\n",
      "\n",
      "[[10 11 12]\n",
      " [15 16 17]\n",
      " [ 0  0  0]]\n",
      "\n",
      "[[11 12 13]\n",
      " [16 17 18]\n",
      " [ 0  0  0]]\n",
      "\n",
      "[[12 13 14]\n",
      " [17 18 19]\n",
      " [ 0  0  0]]\n",
      "\n",
      "[[13 14  0]\n",
      " [18 19  0]\n",
      " [ 0  0  0]]\n",
      "\n"
     ]
    }
   ],
   "source": [
    "# Step 1: get patches k x k, где k - НЕЧЕТНЫЕ, чтобы можно было приложить к центру изображения\n",
    "# TO DO: написать тесты\n",
    "\n",
    "def get_patches(k, image) -> np.ndarray:\n",
    "    padded_image = np.pad(image, (k // 2, k // 2), 'constant', constant_values=0) # можно не 0\n",
    "    \n",
    "    print(padded_image)\n",
    "    for i in range(image.shape[0]):\n",
    "        for j in range(image.shape[1]):\n",
    "            patch = padded_image[i:i+k, j:j+k]\n",
    "            print(patch)\n",
    "            print()\n",
    "            \n",
    "get_patches(3, test_image)"
   ]
  },
  {
   "cell_type": "code",
   "execution_count": 132,
   "metadata": {},
   "outputs": [
    {
     "data": {
      "text/plain": [
       "(9, 20)"
      ]
     },
     "execution_count": 132,
     "metadata": {},
     "output_type": "execute_result"
    }
   ],
   "source": [
    "def get_centered_patches(k, image) -> np.ndarray:\n",
    "    padded_image = np.pad(image, (k // 2, k // 2), 'constant', constant_values=0) # можно не 0\n",
    "    X_im = []\n",
    "    # print(padded_image)\n",
    "    for i in range(image.shape[0]):\n",
    "        for j in range(image.shape[1]):\n",
    "            patch_matrix = padded_image[i:i+k, j:j+k]\n",
    "            patch_vector = (patch_matrix.flatten()).astype(np.float32)\n",
    "            #mean = np.mean(patch_vector)\n",
    "            #patch_vector -= mean\n",
    "            #print(patch_vector)\n",
    "            X_im.append(patch_vector)\n",
    "    return np.array(X_im).T\n",
    "\n",
    "            \n",
    "get_centered_patches(3, test_image).shape"
   ]
  },
  {
   "cell_type": "code",
   "execution_count": null,
   "metadata": {},
   "outputs": [],
   "source": [
    "# Step 3: проделать это с N изображениями, и собрать единую ДВУМЕРНУЮ матрицу\n"
   ]
  },
  {
   "cell_type": "code",
   "execution_count": 52,
   "metadata": {},
   "outputs": [
    {
     "name": "stdout",
     "output_type": "stream",
     "text": [
      "[[1 2]\n",
      " [3 4]]\n",
      "\n",
      "[[5 6]\n",
      " [7 8]]\n"
     ]
    },
    {
     "data": {
      "text/plain": [
       "array([[1, 2, 5, 6],\n",
       "       [3, 4, 7, 8]])"
      ]
     },
     "execution_count": 52,
     "metadata": {},
     "output_type": "execute_result"
    }
   ],
   "source": [
    "# numpy concatenate вроде как самый быстрый вариант, так как нужно будет это сделать для N изображений, где N - большое число\n",
    "\n",
    "a = np.array([[1, 2], [3, 4]])\n",
    "b = np.array([[5, 6], [7, 8]])\n",
    "print(a)\n",
    "print()\n",
    "print(b)\n",
    "np.concatenate((a,b), axis=1)"
   ]
  },
  {
   "cell_type": "code",
   "execution_count": 77,
   "metadata": {},
   "outputs": [
    {
     "name": "stdout",
     "output_type": "stream",
     "text": [
      "(9, 2457600)\n",
      "         41807441 function calls (41806241 primitive calls) in 54.812 seconds\n",
      "\n",
      "   Ordered by: standard name\n",
      "\n",
      "   ncalls  tottime  percall  cumtime  percall filename:lineno(function)\n",
      "      600    0.001    0.000    0.005    0.000 <__array_function__ internals>:2(around)\n",
      "  2457600    1.591    0.000   35.796    0.000 <__array_function__ internals>:2(mean)\n",
      "      600    0.001    0.000    0.056    0.000 <__array_function__ internals>:2(pad)\n",
      "      600    0.001    0.000    0.007    0.000 <__array_function__ internals>:2(round_)\n",
      "      600   12.196    0.020   54.199    0.090 <ipython-input-72-9cbab2703260>:1(get_centered_patches)\n",
      "        1    0.000    0.000   54.812   54.812 <string>:1(<module>)\n",
      "        1    0.584    0.584   54.812   54.812 <timed exec>:3(compute_n_images)\n",
      "     1200    0.001    0.000    0.004    0.000 _asarray.py:16(asarray)\n",
      "  2457600    0.672    0.000    1.382    0.000 _asarray.py:88(asanyarray)\n",
      "  2457600   16.787    0.000   29.157    0.000 _methods.py:134(_mean)\n",
      "  2457600    3.090    0.000    3.365    0.000 _methods.py:50(_count_reduce_items)\n",
      "     1800    0.002    0.000    0.002    0.000 arraypad.py:112(<genexpr>)\n",
      "     1800    0.001    0.000    0.001    0.000 arraypad.py:123(<genexpr>)\n",
      "     1200    0.005    0.000    0.007    0.000 arraypad.py:131(_set_pad_area)\n",
      "     2400    0.001    0.000    0.001    0.000 arraypad.py:35(_slice_at_axis)\n",
      "     1200    0.006    0.000    0.016    0.000 arraypad.py:459(_as_pairs)\n",
      "      600    0.000    0.000    0.000    0.000 arraypad.py:526(_pad_dispatcher)\n",
      "      600    0.012    0.000    0.052    0.000 arraypad.py:534(pad)\n",
      "     1200    0.002    0.000    0.002    0.000 arraypad.py:60(_view_roi)\n",
      "      600    0.008    0.000    0.012    0.000 arraypad.py:88(_pad_simple)\n",
      "     1200    0.000    0.000    0.000    0.000 fromnumeric.py:3126(_around_dispatcher)\n",
      "      600    0.001    0.000    0.003    0.000 fromnumeric.py:3130(around)\n",
      "  2457600    0.355    0.000    0.355    0.000 fromnumeric.py:3227(_mean_dispatcher)\n",
      "  2457600    3.293    0.000   32.450    0.000 fromnumeric.py:3231(mean)\n",
      "      600    0.001    0.000    0.005    0.000 fromnumeric.py:3590(round_)\n",
      "      600    0.001    0.000    0.002    0.000 fromnumeric.py:55(_wrapfunc)\n",
      "        3    0.000    0.000    0.000    0.000 iostream.py:197(schedule)\n",
      "        2    0.000    0.000    0.000    0.000 iostream.py:309(_is_master_process)\n",
      "        2    0.000    0.000    0.000    0.000 iostream.py:322(_schedule_flush)\n",
      "        2    0.000    0.000    0.000    0.000 iostream.py:384(write)\n",
      "        3    0.000    0.000    0.000    0.000 iostream.py:93(_event_pipe)\n",
      "        3    0.000    0.000    0.000    0.000 socket.py:342(send)\n",
      "        3    0.000    0.000    0.000    0.000 threading.py:1050(_wait_for_tstate_lock)\n",
      "        3    0.000    0.000    0.000    0.000 threading.py:1092(is_alive)\n",
      "        3    0.000    0.000    0.000    0.000 threading.py:507(is_set)\n",
      "      600    0.000    0.000    0.000    0.000 {built-in method builtins.callable}\n",
      "        1    0.000    0.000   54.812   54.812 {built-in method builtins.exec}\n",
      "      600    0.000    0.000    0.000    0.000 {built-in method builtins.getattr}\n",
      "  2457600    0.563    0.000    0.563    0.000 {built-in method builtins.hasattr}\n",
      "  4915202    0.709    0.000    0.709    0.000 {built-in method builtins.isinstance}\n",
      "  4915200    0.612    0.000    0.612    0.000 {built-in method builtins.issubclass}\n",
      "        1    0.000    0.000    0.000    0.000 {built-in method builtins.print}\n",
      "  2460600    1.568    0.000    1.568    0.000 {built-in method numpy.array}\n",
      "2459400/2458200    1.403    0.000   33.905    0.000 {built-in method numpy.core._multiarray_umath.implement_array_function}\n",
      "      600    0.001    0.000    0.001    0.000 {built-in method numpy.empty}\n",
      "        1    0.000    0.000    0.000    0.000 {built-in method numpy.zeros}\n",
      "        2    0.000    0.000    0.000    0.000 {built-in method posix.getpid}\n",
      "        3    0.000    0.000    0.000    0.000 {method 'acquire' of '_thread.lock' objects}\n",
      "        3    0.000    0.000    0.000    0.000 {method 'append' of 'collections.deque' objects}\n",
      "  2457600    0.282    0.000    0.282    0.000 {method 'append' of 'list' objects}\n",
      "  2458200    2.056    0.000    2.056    0.000 {method 'astype' of 'numpy.ndarray' objects}\n",
      "        1    0.000    0.000    0.000    0.000 {method 'disable' of '_lsprof.Profiler' objects}\n",
      "  2457600    2.961    0.000    2.961    0.000 {method 'flatten' of 'numpy.ndarray' objects}\n",
      "      600    0.000    0.000    0.000    0.000 {method 'get' of 'dict' objects}\n",
      "      600    0.028    0.000    0.028    0.000 {method 'rand' of 'numpy.random.mtrand.RandomState' objects}\n",
      "     1200    0.001    0.000    0.001    0.000 {method 'ravel' of 'numpy.ndarray' objects}\n",
      "  2457600    6.013    0.000    6.013    0.000 {method 'reduce' of 'numpy.ufunc' objects}\n",
      "      600    0.001    0.000    0.001    0.000 {method 'round' of 'numpy.ndarray' objects}\n",
      "        1    0.000    0.000    0.000    0.000 {method 'seed' of 'numpy.random.mtrand.RandomState' objects}\n",
      "\n",
      "\n",
      "CPU times: user 54.6 s, sys: 118 ms, total: 54.8 s\n",
      "Wall time: 54.8 s\n"
     ]
    }
   ],
   "source": [
    "%%time\n",
    "\n",
    "import cProfile\n",
    "\n",
    "def compute_n_images():\n",
    "    k = 3\n",
    "    N = 600\n",
    "    m = 64\n",
    "\n",
    "    np.random.seed(0)\n",
    "\n",
    "    all_patches = np.zeros((k ** 2, N * m ** 2))\n",
    "    for i in range(N):\n",
    "        #image_arr = Image.open()\n",
    "        #gray = to_gray(image_arr)\n",
    "        gray_im = np.random.rand(m, m)\n",
    "        image_patches = get_centered_patches_profiled(k, gray_im) # k ** 2 x m ** 2\n",
    "        #print(image_patches)\n",
    "        # print(image_patches.shape, m**2)\n",
    "        all_patches[:, i:i+m**2] = image_patches\n",
    "\n",
    "    print(all_patches.shape)\n",
    "    #print(all_patches)\n",
    "    #del all_patches\n",
    "\n",
    "cProfile.run('compute_n_images()')"
   ]
  },
  {
   "cell_type": "code",
   "execution_count": 137,
   "metadata": {},
   "outputs": [],
   "source": [
    "def get_centered_patches_profiled(k, image) -> np.ndarray:\n",
    "    padded_image = np.pad(image, (k // 2, k // 2), 'constant', constant_values=0) # можно не 0\n",
    "    X_im = []\n",
    "    #padded_image.astype(np.float32)\n",
    "    # print(padded_image)\n",
    "    for i in range(image.shape[0]):\n",
    "        for j in range(image.shape[1]):\n",
    "            patch_matrix = padded_image[i:i+k, j:j+k]\n",
    "            X_im.append(patch_matrix)\n",
    "\n",
    "    X_im = np.array(X_im, dtype=np.float32).T # k x k x m^2\n",
    "    X_im = X_im.reshape(-1, X_im.shape[2])\n",
    "    patch_mean = np.mean(X_im, axis=0)\n",
    "\n",
    "    X_im -= patch_mean.reshape(-1, patch_mean.shape[0])\n",
    "    return X_im"
   ]
  },
  {
   "cell_type": "code",
   "execution_count": 128,
   "metadata": {},
   "outputs": [],
   "source": [
    "def matprint(mat, fmt=\"g\"):\n",
    "    col_maxes = [max([len((\"{:\"+fmt+\"}\").format(x)) for x in col]) for col in mat.T]\n",
    "    for x in mat:\n",
    "        for i, y in enumerate(x):\n",
    "            print((\"{:\"+str(col_maxes[i])+fmt+\"}\").format(y), end=\"  \")\n",
    "        print(\"\")"
   ]
  },
  {
   "cell_type": "code",
   "execution_count": 131,
   "metadata": {},
   "outputs": [
    {
     "name": "stdout",
     "output_type": "stream",
     "text": [
      "0  0  0  0  0   0   0   1   2   3   0   5   6   7   8   0  10  11  12  13  \n",
      "0  0  1  2  3   0   5   6   7   8   0  10  11  12  13   0  15  16  17  18  \n",
      "0  5  6  7  8   0  10  11  12  13   0  15  16  17  18   0   0   0   0   0  \n",
      "0  0  0  0  0   0   1   2   3   4   5   6   7   8   9  10  11  12  13  14  \n",
      "0  1  2  3  4   5   6   7   8   9  10  11  12  13  14  15  16  17  18  19  \n",
      "5  6  7  8  9  10  11  12  13  14  15  16  17  18  19   0   0   0   0   0  \n",
      "0  0  0  0  0   1   2   3   4   0   6   7   8   9   0  11  12  13  14   0  \n",
      "1  2  3  4  0   6   7   8   9   0  11  12  13  14   0  16  17  18  19   0  \n",
      "6  7  8  9  0  11  12  13  14   0  16  17  18  19   0   0   0   0   0   0  \n"
     ]
    }
   ],
   "source": [
    "np.set_printoptions(precision=2)\n",
    "patches1 = get_centered_patches_profiled(3, test_image)\n",
    "matprint(patches1)"
   ]
  },
  {
   "cell_type": "code",
   "execution_count": 134,
   "metadata": {},
   "outputs": [
    {
     "name": "stdout",
     "output_type": "stream",
     "text": [
      "0  0  0  0  0   0   0   1   2   3   0   5   6   7   8   0  10  11  12  13  \n",
      "0  0  0  0  0   0   1   2   3   4   5   6   7   8   9  10  11  12  13  14  \n",
      "0  0  0  0  0   1   2   3   4   0   6   7   8   9   0  11  12  13  14   0  \n",
      "0  0  1  2  3   0   5   6   7   8   0  10  11  12  13   0  15  16  17  18  \n",
      "0  1  2  3  4   5   6   7   8   9  10  11  12  13  14  15  16  17  18  19  \n",
      "1  2  3  4  0   6   7   8   9   0  11  12  13  14   0  16  17  18  19   0  \n",
      "0  5  6  7  8   0  10  11  12  13   0  15  16  17  18   0   0   0   0   0  \n",
      "5  6  7  8  9  10  11  12  13  14  15  16  17  18  19   0   0   0   0   0  \n",
      "6  7  8  9  0  11  12  13  14   0  16  17  18  19   0   0   0   0   0   0  \n"
     ]
    }
   ],
   "source": [
    "patches2 = get_centered_patches(3, test_image)\n",
    "matprint(patches2)"
   ]
  },
  {
   "cell_type": "code",
   "execution_count": 118,
   "metadata": {},
   "outputs": [
    {
     "data": {
      "text/plain": [
       "array([-5.29819069e-08,  1.05963814e-07,  0.00000000e+00, -1.58945724e-07,\n",
       "       -1.85436676e-07, -1.05963814e-07,  0.00000000e+00,  0.00000000e+00,\n",
       "        0.00000000e+00,  2.64909545e-07,  0.00000000e+00,  0.00000000e+00,\n",
       "        0.00000000e+00,  0.00000000e+00,  0.00000000e+00,  1.05963814e-07,\n",
       "        0.00000000e+00, -3.17891448e-07,  3.17891448e-07, -5.29819069e-08],\n",
       "      dtype=float32)"
      ]
     },
     "execution_count": 118,
     "metadata": {},
     "output_type": "execute_result"
    }
   ],
   "source": [
    "patches2.mean(axis=0)"
   ]
  },
  {
   "cell_type": "code",
   "execution_count": 109,
   "metadata": {},
   "outputs": [
    {
     "name": "stdout",
     "output_type": "stream",
     "text": [
      "[0. 0. 5. 0. 1. 6. 0. 2. 7.]\n"
     ]
    }
   ],
   "source": [
    "print(patches1[:,1])"
   ]
  },
  {
   "cell_type": "code",
   "execution_count": 110,
   "metadata": {},
   "outputs": [
    {
     "name": "stdout",
     "output_type": "stream",
     "text": [
      "[0. 0. 0. 0. 1. 2. 5. 6. 7.]\n"
     ]
    }
   ],
   "source": [
    "print(patches2[:,1])"
   ]
  },
  {
   "cell_type": "code",
   "execution_count": null,
   "metadata": {},
   "outputs": [],
   "source": []
  },
  {
   "cell_type": "code",
   "execution_count": 138,
   "metadata": {},
   "outputs": [
    {
     "name": "stdout",
     "output_type": "stream",
     "text": [
      "(9, 2457600)\n",
      "         2494841 function calls (2493641 primitive calls) in 2.968 seconds\n",
      "\n",
      "   Ordered by: standard name\n",
      "\n",
      "   ncalls  tottime  percall  cumtime  percall filename:lineno(function)\n",
      "      600    0.001    0.000    0.003    0.000 <__array_function__ internals>:2(around)\n",
      "      600    0.001    0.000    0.030    0.000 <__array_function__ internals>:2(mean)\n",
      "      600    0.001    0.000    0.047    0.000 <__array_function__ internals>:2(pad)\n",
      "      600    0.001    0.000    0.005    0.000 <__array_function__ internals>:2(round_)\n",
      "      600    1.626    0.003    2.922    0.005 <ipython-input-137-b873b8a1d142>:1(get_centered_patches_profiled)\n",
      "        1    0.000    0.000    2.968    2.968 <string>:1(<module>)\n",
      "        1    0.020    0.020    2.968    2.968 <timed exec>:3(compute_n_images)\n",
      "     1200    0.000    0.000    0.003    0.000 _asarray.py:16(asarray)\n",
      "      600    0.000    0.000    0.001    0.000 _asarray.py:88(asanyarray)\n",
      "      600    0.011    0.000    0.025    0.000 _methods.py:134(_mean)\n",
      "      600    0.001    0.000    0.002    0.000 _methods.py:50(_count_reduce_items)\n",
      "     1800    0.001    0.000    0.001    0.000 arraypad.py:112(<genexpr>)\n",
      "     1800    0.001    0.000    0.001    0.000 arraypad.py:123(<genexpr>)\n",
      "     1200    0.005    0.000    0.006    0.000 arraypad.py:131(_set_pad_area)\n",
      "     2400    0.001    0.000    0.001    0.000 arraypad.py:35(_slice_at_axis)\n",
      "     1200    0.005    0.000    0.013    0.000 arraypad.py:459(_as_pairs)\n",
      "      600    0.000    0.000    0.000    0.000 arraypad.py:526(_pad_dispatcher)\n",
      "      600    0.009    0.000    0.044    0.000 arraypad.py:534(pad)\n",
      "     1200    0.002    0.000    0.002    0.000 arraypad.py:60(_view_roi)\n",
      "      600    0.006    0.000    0.010    0.000 arraypad.py:88(_pad_simple)\n",
      "     1200    0.000    0.000    0.000    0.000 fromnumeric.py:3126(_around_dispatcher)\n",
      "      600    0.001    0.000    0.002    0.000 fromnumeric.py:3130(around)\n",
      "      600    0.000    0.000    0.000    0.000 fromnumeric.py:3227(_mean_dispatcher)\n",
      "      600    0.002    0.000    0.028    0.000 fromnumeric.py:3231(mean)\n",
      "      600    0.001    0.000    0.004    0.000 fromnumeric.py:3590(round_)\n",
      "      600    0.001    0.000    0.001    0.000 fromnumeric.py:55(_wrapfunc)\n",
      "        3    0.000    0.000    0.000    0.000 iostream.py:197(schedule)\n",
      "        2    0.000    0.000    0.000    0.000 iostream.py:309(_is_master_process)\n",
      "        2    0.000    0.000    0.000    0.000 iostream.py:322(_schedule_flush)\n",
      "        2    0.000    0.000    0.000    0.000 iostream.py:384(write)\n",
      "        3    0.000    0.000    0.000    0.000 iostream.py:93(_event_pipe)\n",
      "        3    0.000    0.000    0.000    0.000 socket.py:342(send)\n",
      "        3    0.000    0.000    0.000    0.000 threading.py:1050(_wait_for_tstate_lock)\n",
      "        3    0.000    0.000    0.000    0.000 threading.py:1092(is_alive)\n",
      "        3    0.000    0.000    0.000    0.000 threading.py:507(is_set)\n",
      "      600    0.000    0.000    0.000    0.000 {built-in method builtins.callable}\n",
      "        1    0.000    0.000    2.968    2.968 {built-in method builtins.exec}\n",
      "      600    0.000    0.000    0.000    0.000 {built-in method builtins.getattr}\n",
      "     1202    0.000    0.000    0.000    0.000 {built-in method builtins.isinstance}\n",
      "     1200    0.000    0.000    0.000    0.000 {built-in method builtins.issubclass}\n",
      "        1    0.000    0.000    0.000    0.000 {built-in method builtins.print}\n",
      "     3600    1.055    0.000    1.055    0.000 {built-in method numpy.array}\n",
      "2400/1200    0.004    0.000    0.074    0.000 {built-in method numpy.core._multiarray_umath.implement_array_function}\n",
      "      600    0.001    0.000    0.001    0.000 {built-in method numpy.empty}\n",
      "        1    0.000    0.000    0.000    0.000 {built-in method numpy.zeros}\n",
      "        2    0.000    0.000    0.000    0.000 {built-in method posix.getpid}\n",
      "        3    0.000    0.000    0.000    0.000 {method 'acquire' of '_thread.lock' objects}\n",
      "        3    0.000    0.000    0.000    0.000 {method 'append' of 'collections.deque' objects}\n",
      "  2457600    0.150    0.000    0.150    0.000 {method 'append' of 'list' objects}\n",
      "      600    0.001    0.000    0.001    0.000 {method 'astype' of 'numpy.ndarray' objects}\n",
      "        1    0.000    0.000    0.000    0.000 {method 'disable' of '_lsprof.Profiler' objects}\n",
      "      600    0.000    0.000    0.000    0.000 {method 'get' of 'dict' objects}\n",
      "      600    0.026    0.000    0.026    0.000 {method 'rand' of 'numpy.random.mtrand.RandomState' objects}\n",
      "     1200    0.001    0.000    0.001    0.000 {method 'ravel' of 'numpy.ndarray' objects}\n",
      "      600    0.012    0.000    0.012    0.000 {method 'reduce' of 'numpy.ufunc' objects}\n",
      "     1200    0.019    0.000    0.019    0.000 {method 'reshape' of 'numpy.ndarray' objects}\n",
      "      600    0.001    0.000    0.001    0.000 {method 'round' of 'numpy.ndarray' objects}\n",
      "        1    0.000    0.000    0.000    0.000 {method 'seed' of 'numpy.random.mtrand.RandomState' objects}\n",
      "\n",
      "\n",
      "CPU times: user 2.97 s, sys: 19.6 ms, total: 2.99 s\n",
      "Wall time: 2.99 s\n"
     ]
    }
   ],
   "source": [
    "%%time\n",
    "\n",
    "import cProfile\n",
    "\n",
    "def compute_n_images():\n",
    "    k = 3\n",
    "    N = 600\n",
    "    m = 64\n",
    "\n",
    "    np.random.seed(0)\n",
    "\n",
    "    all_patches = np.zeros((k ** 2, N * m ** 2))\n",
    "    for i in range(N):\n",
    "        #image_arr = Image.open()\n",
    "        #gray = to_gray(image_arr)\n",
    "        gray_im = np.random.rand(m, m)\n",
    "        image_patches = get_centered_patches_profiled(k, gray_im) # k ** 2 x m ** 2\n",
    "        #print(image_patches)\n",
    "        # print(image_patches.shape, m**2)\n",
    "        all_patches[:, i:i+m**2] = image_patches\n",
    "\n",
    "    print(all_patches.shape)\n",
    "    \n",
    "    return all_patches\n",
    "\n",
    "cProfile.run('compute_n_images()')"
   ]
  },
  {
   "cell_type": "code",
   "execution_count": 139,
   "metadata": {},
   "outputs": [
    {
     "name": "stdout",
     "output_type": "stream",
     "text": [
      "(9, 2457600)\n"
     ]
    }
   ],
   "source": [
    "all_patches = compute_n_images()"
   ]
  },
  {
   "cell_type": "code",
   "execution_count": 141,
   "metadata": {},
   "outputs": [],
   "source": [
    "X = all_patches"
   ]
  },
  {
   "cell_type": "code",
   "execution_count": null,
   "metadata": {},
   "outputs": [],
   "source": [
    "#Step4: Извлечение фильтров"
   ]
  },
  {
   "cell_type": "code",
   "execution_count": 149,
   "metadata": {},
   "outputs": [],
   "source": [
    "from sklearn.decomposition import IncrementalPCA\n",
    "n_filters = 8\n",
    "pca = PCA(n_components=n_filters)"
   ]
  },
  {
   "cell_type": "code",
   "execution_count": 150,
   "metadata": {},
   "outputs": [
    {
     "name": "stdout",
     "output_type": "stream",
     "text": [
      "CPU times: user 3 µs, sys: 0 ns, total: 3 µs\n",
      "Wall time: 6.91 µs\n"
     ]
    },
    {
     "data": {
      "text/plain": [
       "PCA(copy=True, iterated_power='auto', n_components=8, random_state=None,\n",
       "    svd_solver='auto', tol=0.0, whiten=False)"
      ]
     },
     "execution_count": 150,
     "metadata": {},
     "output_type": "execute_result"
    }
   ],
   "source": [
    "%time\n",
    "pca.fit(X @ X.T)"
   ]
  },
  {
   "cell_type": "code",
   "execution_count": 152,
   "metadata": {},
   "outputs": [
    {
     "data": {
      "text/plain": [
       "array([[-0.32, -0.3 , -0.29, -0.31,  0.37,  0.35, -0.26,  0.38,  0.39],\n",
       "       [-0.02, -0.02,  0.04,  0.02,  0.56,  0.45, -0.06, -0.42, -0.55],\n",
       "       [-0.06,  0.04,  0.29, -0.13, -0.42,  0.52, -0.17, -0.5 ,  0.42],\n",
       "       [ 0.1 , -0.17, -0.18, -0.17, -0.45,  0.5 ,  0.42,  0.34, -0.39],\n",
       "       [ 0.15,  0.59,  0.17, -0.45, -0.06,  0.04, -0.49,  0.3 , -0.25],\n",
       "       [ 0.7 ,  0.08, -0.61, -0.16,  0.06,  0.02, -0.03, -0.25,  0.2 ],\n",
       "       [-0.26,  0.3 ,  0.01, -0.6 ,  0.19, -0.16,  0.61, -0.21,  0.12],\n",
       "       [-0.45,  0.57, -0.53,  0.4 , -0.12,  0.16, -0.  , -0.04,  0.01]])"
      ]
     },
     "execution_count": 152,
     "metadata": {},
     "output_type": "execute_result"
    }
   ],
   "source": [
    "# получаем таблицу - строка - номер фильтра, столбцы - flattend фильтр\n",
    "pca.components_"
   ]
  },
  {
   "cell_type": "code",
   "execution_count": 154,
   "metadata": {},
   "outputs": [
    {
     "data": {
      "text/plain": [
       "array([[-0.32, -0.3 , -0.29],\n",
       "       [-0.31,  0.37,  0.35],\n",
       "       [-0.26,  0.38,  0.39]])"
      ]
     },
     "execution_count": 154,
     "metadata": {},
     "output_type": "execute_result"
    }
   ],
   "source": [
    "first_eigenvector = pca.components_[0].reshape(3,3)\n",
    "first_eigenvector"
   ]
  },
  {
   "cell_type": "code",
   "execution_count": null,
   "metadata": {},
   "outputs": [],
   "source": [
    "class PCAFilter(filter_size, n_channels, im_size):\n",
    "    def __init__(self,):\n",
    "        self.pca = PCA(n_channels)\n",
    "        self.filter_size = filter_size\n",
    "        self.im_size = im_size\n",
    "        self.n_channels = n_channels\n",
    "        self.filters = None\n",
    "    \n",
    "    def get_stage1_filters(self, train_paths):\n",
    "        N = len(train_paths)\n",
    "        m = self.im_size\n",
    "        k = self.filter_size\n",
    "        # all patches of all images\n",
    "        X = np.zeros((k ** 2, N * m ** 2))\n",
    "        \n",
    "        for i, path in enumerate(train_paths):\n",
    "            image_array = load_image(path) ########\n",
    "            image_array = image_array.resize((m, m)) ##########\n",
    "            im_patches = self.get_centered_patches(image_array)\n",
    "            X[:, i:i+m**2] = im_patches\n",
    "        \n",
    "        self.pca.fit(X @ X.T) # for incrementalPCA - partial_fit\n",
    "        \n",
    "        filters = np.zeros((n_channels, k, k))\n",
    "        \n",
    "        for i in range(n_channels):\n",
    "            filters[i, :, :] = self.pca.components_[i].reshape(k, k)\n",
    "        \n",
    "        self.filters = filters\n",
    "            \n",
    "    def get_centered_patches(self, image) -> np.ndarray:\n",
    "        padded_image = np.pad(image, (k // 2, k // 2), 'constant', constant_values=0) # можно не 0\n",
    "        patches = []\n",
    "\n",
    "        for i in range(image.shape[0]):\n",
    "            for j in range(image.shape[1]):\n",
    "                patch_matrix = padded_image[i:i+k, j:j+k]\n",
    "                patches.append(patch_matrix)\n",
    "\n",
    "        patches = np.array(patches, dtype=np.float32).T # k x k x m^2\n",
    "        patches = patches.reshape(-1, X_im.shape[2]) # k^2 x m^2\n",
    "        \n",
    "        patch_mean = np.mean(patches, axis=0)\n",
    "        patches -= patch_mean.reshape(-1, patch_mean.shape[0])\n",
    "        return patches  "
   ]
  },
  {
   "cell_type": "code",
   "execution_count": null,
   "metadata": {},
   "outputs": [],
   "source": []
  },
  {
   "cell_type": "code",
   "execution_count": null,
   "metadata": {},
   "outputs": [],
   "source": []
  },
  {
   "cell_type": "code",
   "execution_count": null,
   "metadata": {},
   "outputs": [],
   "source": []
  },
  {
   "cell_type": "code",
   "execution_count": null,
   "metadata": {},
   "outputs": [],
   "source": []
  },
  {
   "cell_type": "code",
   "execution_count": null,
   "metadata": {},
   "outputs": [],
   "source": []
  },
  {
   "cell_type": "code",
   "execution_count": null,
   "metadata": {},
   "outputs": [],
   "source": []
  },
  {
   "cell_type": "code",
   "execution_count": 2,
   "metadata": {},
   "outputs": [],
   "source": [
    "import numpy as np\n",
    "import pandas as pd\n",
    "\n",
    "import matplotlib.pyplot as plt\n",
    "\n",
    "import torch\n",
    "from torchvision import transforms, models\n",
    "\n",
    "# from PIL import Image\n",
    "# from colour_demosaicing import demosaicing_CFA_Bayer_Menon2007"
   ]
  },
  {
   "cell_type": "code",
   "execution_count": null,
   "metadata": {},
   "outputs": [],
   "source": []
  },
  {
   "cell_type": "code",
   "execution_count": null,
   "metadata": {},
   "outputs": [],
   "source": []
  },
  {
   "cell_type": "code",
   "execution_count": null,
   "metadata": {},
   "outputs": [],
   "source": []
  }
 ],
 "metadata": {
  "kernelspec": {
   "display_name": "Python 3",
   "language": "python",
   "name": "python3"
  },
  "language_info": {
   "codemirror_mode": {
    "name": "ipython",
    "version": 3
   },
   "file_extension": ".py",
   "mimetype": "text/x-python",
   "name": "python",
   "nbconvert_exporter": "python",
   "pygments_lexer": "ipython3",
   "version": "3.7.6"
  }
 },
 "nbformat": 4,
 "nbformat_minor": 4
}
