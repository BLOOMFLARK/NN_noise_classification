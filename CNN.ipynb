{
  "nbformat": 4,
  "nbformat_minor": 0,
  "metadata": {
    "accelerator": "GPU",
    "colab": {
      "name": "CNN.ipynb",
      "provenance": [],
      "collapsed_sections": [],
      "include_colab_link": true
    },
    "kernelspec": {
      "name": "python3",
      "display_name": "Python 3"
    },
    "language_info": {
      "codemirror_mode": {
        "name": "ipython",
        "version": 3
      },
      "file_extension": ".py",
      "mimetype": "text/x-python",
      "name": "python",
      "nbconvert_exporter": "python",
      "pygments_lexer": "ipython3",
      "version": "3.7.3"
    },
    "widgets": {
      "application/vnd.jupyter.widget-state+json": {
        "070b564305cb4c9192159f0ef88818dd": {
          "model_module": "@jupyter-widgets/controls",
          "model_name": "HBoxModel",
          "state": {
            "_view_name": "HBoxView",
            "_dom_classes": [],
            "_model_name": "HBoxModel",
            "_view_module": "@jupyter-widgets/controls",
            "_model_module_version": "1.5.0",
            "_view_count": null,
            "_view_module_version": "1.5.0",
            "box_style": "",
            "layout": "IPY_MODEL_e4c000e44f654822ba55d38399efba57",
            "_model_module": "@jupyter-widgets/controls",
            "children": [
              "IPY_MODEL_7f42df34aaa34bcc822eaba494ce7b37",
              "IPY_MODEL_39cf2e22e8074f5395266c1029e3309e"
            ]
          }
        },
        "e4c000e44f654822ba55d38399efba57": {
          "model_module": "@jupyter-widgets/base",
          "model_name": "LayoutModel",
          "state": {
            "_view_name": "LayoutView",
            "grid_template_rows": null,
            "right": null,
            "justify_content": null,
            "_view_module": "@jupyter-widgets/base",
            "overflow": null,
            "_model_module_version": "1.2.0",
            "_view_count": null,
            "flex_flow": null,
            "width": null,
            "min_width": null,
            "border": null,
            "align_items": null,
            "bottom": null,
            "_model_module": "@jupyter-widgets/base",
            "top": null,
            "grid_column": null,
            "overflow_y": null,
            "overflow_x": null,
            "grid_auto_flow": null,
            "grid_area": null,
            "grid_template_columns": null,
            "flex": null,
            "_model_name": "LayoutModel",
            "justify_items": null,
            "grid_row": null,
            "max_height": null,
            "align_content": null,
            "visibility": null,
            "align_self": null,
            "height": null,
            "min_height": null,
            "padding": null,
            "grid_auto_rows": null,
            "grid_gap": null,
            "max_width": null,
            "order": null,
            "_view_module_version": "1.2.0",
            "grid_template_areas": null,
            "object_position": null,
            "object_fit": null,
            "grid_auto_columns": null,
            "margin": null,
            "display": null,
            "left": null
          }
        },
        "7f42df34aaa34bcc822eaba494ce7b37": {
          "model_module": "@jupyter-widgets/controls",
          "model_name": "FloatProgressModel",
          "state": {
            "_view_name": "ProgressView",
            "style": "IPY_MODEL_6431a305c7e742aeb0226127c1cb6d20",
            "_dom_classes": [],
            "description": "100%",
            "_model_name": "FloatProgressModel",
            "bar_style": "success",
            "max": 241530880,
            "_view_module": "@jupyter-widgets/controls",
            "_model_module_version": "1.5.0",
            "value": 241530880,
            "_view_count": null,
            "_view_module_version": "1.5.0",
            "orientation": "horizontal",
            "min": 0,
            "description_tooltip": null,
            "_model_module": "@jupyter-widgets/controls",
            "layout": "IPY_MODEL_80f9f418c0bb437cbd38d54079a830c7"
          }
        },
        "39cf2e22e8074f5395266c1029e3309e": {
          "model_module": "@jupyter-widgets/controls",
          "model_name": "HTMLModel",
          "state": {
            "_view_name": "HTMLView",
            "style": "IPY_MODEL_4cd1f0c6ed4149e582c09512d0560602",
            "_dom_classes": [],
            "description": "",
            "_model_name": "HTMLModel",
            "placeholder": "​",
            "_view_module": "@jupyter-widgets/controls",
            "_model_module_version": "1.5.0",
            "value": " 230M/230M [00:05&lt;00:00, 44.6MB/s]",
            "_view_count": null,
            "_view_module_version": "1.5.0",
            "description_tooltip": null,
            "_model_module": "@jupyter-widgets/controls",
            "layout": "IPY_MODEL_f9e3b9a5d2c84aa988fb6047f5350db9"
          }
        },
        "6431a305c7e742aeb0226127c1cb6d20": {
          "model_module": "@jupyter-widgets/controls",
          "model_name": "ProgressStyleModel",
          "state": {
            "_view_name": "StyleView",
            "_model_name": "ProgressStyleModel",
            "description_width": "initial",
            "_view_module": "@jupyter-widgets/base",
            "_model_module_version": "1.5.0",
            "_view_count": null,
            "_view_module_version": "1.2.0",
            "bar_color": null,
            "_model_module": "@jupyter-widgets/controls"
          }
        },
        "80f9f418c0bb437cbd38d54079a830c7": {
          "model_module": "@jupyter-widgets/base",
          "model_name": "LayoutModel",
          "state": {
            "_view_name": "LayoutView",
            "grid_template_rows": null,
            "right": null,
            "justify_content": null,
            "_view_module": "@jupyter-widgets/base",
            "overflow": null,
            "_model_module_version": "1.2.0",
            "_view_count": null,
            "flex_flow": null,
            "width": null,
            "min_width": null,
            "border": null,
            "align_items": null,
            "bottom": null,
            "_model_module": "@jupyter-widgets/base",
            "top": null,
            "grid_column": null,
            "overflow_y": null,
            "overflow_x": null,
            "grid_auto_flow": null,
            "grid_area": null,
            "grid_template_columns": null,
            "flex": null,
            "_model_name": "LayoutModel",
            "justify_items": null,
            "grid_row": null,
            "max_height": null,
            "align_content": null,
            "visibility": null,
            "align_self": null,
            "height": null,
            "min_height": null,
            "padding": null,
            "grid_auto_rows": null,
            "grid_gap": null,
            "max_width": null,
            "order": null,
            "_view_module_version": "1.2.0",
            "grid_template_areas": null,
            "object_position": null,
            "object_fit": null,
            "grid_auto_columns": null,
            "margin": null,
            "display": null,
            "left": null
          }
        },
        "4cd1f0c6ed4149e582c09512d0560602": {
          "model_module": "@jupyter-widgets/controls",
          "model_name": "DescriptionStyleModel",
          "state": {
            "_view_name": "StyleView",
            "_model_name": "DescriptionStyleModel",
            "description_width": "",
            "_view_module": "@jupyter-widgets/base",
            "_model_module_version": "1.5.0",
            "_view_count": null,
            "_view_module_version": "1.2.0",
            "_model_module": "@jupyter-widgets/controls"
          }
        },
        "f9e3b9a5d2c84aa988fb6047f5350db9": {
          "model_module": "@jupyter-widgets/base",
          "model_name": "LayoutModel",
          "state": {
            "_view_name": "LayoutView",
            "grid_template_rows": null,
            "right": null,
            "justify_content": null,
            "_view_module": "@jupyter-widgets/base",
            "overflow": null,
            "_model_module_version": "1.2.0",
            "_view_count": null,
            "flex_flow": null,
            "width": null,
            "min_width": null,
            "border": null,
            "align_items": null,
            "bottom": null,
            "_model_module": "@jupyter-widgets/base",
            "top": null,
            "grid_column": null,
            "overflow_y": null,
            "overflow_x": null,
            "grid_auto_flow": null,
            "grid_area": null,
            "grid_template_columns": null,
            "flex": null,
            "_model_name": "LayoutModel",
            "justify_items": null,
            "grid_row": null,
            "max_height": null,
            "align_content": null,
            "visibility": null,
            "align_self": null,
            "height": null,
            "min_height": null,
            "padding": null,
            "grid_auto_rows": null,
            "grid_gap": null,
            "max_width": null,
            "order": null,
            "_view_module_version": "1.2.0",
            "grid_template_areas": null,
            "object_position": null,
            "object_fit": null,
            "grid_auto_columns": null,
            "margin": null,
            "display": null,
            "left": null
          }
        }
      }
    }
  },
  "cells": [
    {
      "cell_type": "markdown",
      "metadata": {
        "id": "view-in-github",
        "colab_type": "text"
      },
      "source": [
        "<a href=\"https://colab.research.google.com/github/BLOOMFLARK/NN_noise_classification/blob/master/CNN.ipynb\" target=\"_parent\"><img src=\"https://colab.research.google.com/assets/colab-badge.svg\" alt=\"Open In Colab\"/></a>"
      ]
    },
    {
      "cell_type": "code",
      "metadata": {
        "colab_type": "code",
        "id": "mCmxaJrq9fnA",
        "outputId": "76aa0e17-b584-4fe8-9acf-700e1dcce4a4",
        "colab": {
          "base_uri": "https://localhost:8080/",
          "height": 413
        }
      },
      "source": [
        "!pip install colour-demosaicing"
      ],
      "execution_count": 0,
      "outputs": [
        {
          "output_type": "stream",
          "text": [
            "Collecting colour-demosaicing\n",
            "\u001b[?25l  Downloading https://files.pythonhosted.org/packages/ce/c6/3a02843dd96aa79f7d9a58334c190f68602e1eb3c52358b73f4762ba6832/colour_demosaicing-0.1.5-py2.py3-none-any.whl (3.3MB)\n",
            "\u001b[K     |████████████████████████████████| 3.3MB 2.7MB/s \n",
            "\u001b[?25hCollecting colour-science<0.4.0,>=0.3.14\n",
            "\u001b[?25l  Downloading https://files.pythonhosted.org/packages/2e/b8/a25564da5f41a2d349afb3e95f8c5d7007231450bacf433a92301b073070/colour_science-0.3.15-py2.py3-none-any.whl (1.6MB)\n",
            "\u001b[K     |████████████████████████████████| 1.6MB 27.7MB/s \n",
            "\u001b[?25hRequirement already satisfied: imageio in /usr/local/lib/python3.6/dist-packages (from colour-science<0.4.0,>=0.3.14->colour-demosaicing) (2.4.1)\n",
            "Requirement already satisfied: six in /usr/local/lib/python3.6/dist-packages (from colour-science<0.4.0,>=0.3.14->colour-demosaicing) (1.12.0)\n",
            "Requirement already satisfied: scipy in /usr/local/lib/python3.6/dist-packages (from colour-science<0.4.0,>=0.3.14->colour-demosaicing) (1.4.1)\n",
            "Requirement already satisfied: numpy in /usr/local/lib/python3.6/dist-packages (from imageio->colour-science<0.4.0,>=0.3.14->colour-demosaicing) (1.18.2)\n",
            "Requirement already satisfied: pillow in /usr/local/lib/python3.6/dist-packages (from imageio->colour-science<0.4.0,>=0.3.14->colour-demosaicing) (7.0.0)\n",
            "Installing collected packages: colour-science, colour-demosaicing\n",
            "Successfully installed colour-demosaicing-0.1.5 colour-science-0.3.15\n"
          ],
          "name": "stdout"
        }
      ]
    },
    {
      "cell_type": "code",
      "metadata": {
        "colab_type": "code",
        "id": "ZhJMt49Zv3rM",
        "colab": {
          "base_uri": "https://localhost:8080/",
          "height": 189
        },
        "outputId": "fafa9d76-9805-4773-9ff5-9438fc21db0d"
      },
      "source": [
        "from google.colab import drive\n",
        "drive.mount('/content/drive')"
      ],
      "execution_count": 1,
      "outputs": [
        {
          "output_type": "stream",
          "text": [
            "Go to this URL in a browser: https://accounts.google.com/o/oauth2/auth?client_id=947318989803-6bn6qk8qdgf4n4g3pfee6491hc0brc4i.apps.googleusercontent.com&redirect_uri=urn%3aietf%3awg%3aoauth%3a2.0%3aoob&response_type=code&scope=email%20https%3a%2f%2fwww.googleapis.com%2fauth%2fdocs.test%20https%3a%2f%2fwww.googleapis.com%2fauth%2fdrive%20https%3a%2f%2fwww.googleapis.com%2fauth%2fdrive.photos.readonly%20https%3a%2f%2fwww.googleapis.com%2fauth%2fpeopleapi.readonly\n",
            "\n",
            "Enter your authorization code:\n",
            "··········\n",
            "Mounted at /content/drive\n"
          ],
          "name": "stdout"
        }
      ]
    },
    {
      "cell_type": "code",
      "metadata": {
        "colab_type": "code",
        "id": "W87Kh69HvtXe",
        "outputId": "96b89458-afa2-431c-857f-6898c6c507aa",
        "colab": {
          "base_uri": "https://localhost:8080/",
          "height": 34
        }
      },
      "source": [
        "import numpy as np\n",
        "import pandas as pd\n",
        "import os\n",
        "\n",
        "from pathlib import Path\n",
        "\n",
        "\n",
        "import numpy as np\n",
        "import torchvision\n",
        "import matplotlib.pyplot as plt\n",
        "\n",
        "import torch\n",
        "from torchvision import transforms, models, datasets\n",
        "\n",
        "from albumentations import Compose, ToGray, Normalize, RandomCrop, Resize\n",
        "#from albumentations.pytorch import ToTensor\n",
        "from torch.utils.data import Dataset, DataLoader\n",
        "\n",
        "from PIL import Image\n",
        "\n",
        "import random\n",
        "print(os.listdir())"
      ],
      "execution_count": 4,
      "outputs": [
        {
          "output_type": "stream",
          "text": [
            "['.config', 'drive', 'sample_data']\n"
          ],
          "name": "stdout"
        }
      ]
    },
    {
      "cell_type": "code",
      "metadata": {
        "id": "1uj0lWZF1yro",
        "colab_type": "code",
        "colab": {}
      },
      "source": [
        "SEED = 1234\n",
        "\n",
        "random.seed(SEED)\n",
        "np.random.seed(SEED)\n",
        "torch.manual_seed(SEED)\n",
        "torch.cuda.manual_seed(SEED)\n",
        "torch.backends.cudnn.deterministic = True\n",
        "\n",
        "net = None"
      ],
      "execution_count": 0,
      "outputs": []
    },
    {
      "cell_type": "code",
      "metadata": {
        "id": "JL3fZfUK18q5",
        "colab_type": "code",
        "colab": {}
      },
      "source": [
        "data_root = 'drive/My Drive/dl_noise_classification/data_tl/'\n",
        "train_dir = 'train'\n",
        "val_dir = 'val'\n",
        "class_names = ['awgn', 'bayer']\n",
        "\n",
        "train_dir = os.path.join(data_root, train_dir)\n",
        "val_dir = os.path.join(data_root, val_dir)"
      ],
      "execution_count": 0,
      "outputs": []
    },
    {
      "cell_type": "code",
      "metadata": {
        "colab_type": "code",
        "id": "xQkAjx6bNsbl",
        "colab": {}
      },
      "source": [
        "batch_size = 50\n",
        "lr = 1e-4\n",
        "num_epochs = 100"
      ],
      "execution_count": 0,
      "outputs": []
    },
    {
      "cell_type": "code",
      "metadata": {
        "id": "wJlwDXvi2phI",
        "colab_type": "code",
        "outputId": "4fbce1b9-9a8d-497b-ca27-07672881188c",
        "colab": {
          "base_uri": "https://localhost:8080/",
          "height": 68
        }
      },
      "source": [
        "train_transforms = transforms.Compose([\n",
        "    transforms.RandomHorizontalFlip(p=0.5),\n",
        "    transforms.RandomVerticalFlip(p=0.5),\n",
        "    transforms.ColorJitter(brightness=0, contrast=0, saturation=0, hue=0),\n",
        "    transforms.ToTensor(),\n",
        "    transforms.Normalize([0.485, 0.456, 0.406], [0.229, 0.224, 0.225])\n",
        "])\n",
        "\n",
        "val_transforms = transforms.Compose([\n",
        "    transforms.ToTensor(),\n",
        "    transforms.Normalize([0.485, 0.456, 0.406], [0.229, 0.224, 0.225])\n",
        "])\n",
        "\n",
        "train_dataset = datasets.ImageFolder(train_dir, train_transforms)\n",
        "val_dataset = datasets.ImageFolder(val_dir, val_transforms)\n",
        "\n",
        "train_size = len(train_dataset)\n",
        "val_size = len(val_dataset)\n",
        "\n",
        "train_dataloader = torch.utils.data.DataLoader(\n",
        "    train_dataset, batch_size=batch_size, shuffle=True, num_workers=batch_size)\n",
        "\n",
        "val_dataloader = torch.utils.data.DataLoader(\n",
        "    val_dataset, batch_size=batch_size, shuffle=False, num_workers=batch_size)\n",
        "\n",
        "print(\"TRAIN_SIZE: {}\\n VAL_SIZE: {}\\n\".format(train_size, val_size))"
      ],
      "execution_count": 8,
      "outputs": [
        {
          "output_type": "stream",
          "text": [
            "TRAIN_SIZE: 1200\n",
            " VAL_SIZE: 400\n",
            "\n"
          ],
          "name": "stdout"
        }
      ]
    },
    {
      "cell_type": "code",
      "metadata": {
        "id": "PLKvIrVe2HXF",
        "colab_type": "code",
        "colab": {
          "base_uri": "https://localhost:8080/",
          "height": 286
        },
        "outputId": "6266ea66-5404-4d56-8910-c16c5b7e3e8c"
      },
      "source": [
        "X_batch, y_batch = next(iter(train_dataloader))\n",
        "mean = np.array([0.485, 0.456, 0.406])\n",
        "std = np.array([0.229, 0.224, 0.225])\n",
        "plt.imshow(X_batch[0].permute(1, 2, 0).numpy() * std + mean);"
      ],
      "execution_count": 9,
      "outputs": [
        {
          "output_type": "stream",
          "text": [
            "Clipping input data to the valid range for imshow with RGB data ([0..1] for floats or [0..255] for integers).\n"
          ],
          "name": "stderr"
        },
        {
          "output_type": "display_data",
          "data": {
            "image/png": "[encoded data removed]",
            "text/plain": [
              "<Figure size 432x288 with 1 Axes>"
            ]
          },
          "metadata": {
            "tags": [],
            "needs_background": "light"
          }
        }
      ]
    },
    {
      "cell_type": "code",
      "metadata": {
        "id": "EsczGYZp2W-j",
        "colab_type": "code",
        "colab": {
          "base_uri": "https://localhost:8080/",
          "height": 68
        },
        "outputId": "6d8e9547-0f4f-4b34-e3d3-c3b10f7c72e3"
      },
      "source": [
        "y_batch"
      ],
      "execution_count": 11,
      "outputs": [
        {
          "output_type": "execute_result",
          "data": {
            "text/plain": [
              "tensor([0, 0, 0, 1, 1, 0, 1, 1, 1, 1, 0, 1, 0, 0, 0, 1, 0, 1, 1, 0, 0, 1, 1, 1,\n",
              "        0, 0, 0, 1, 0, 1, 0, 1, 0, 0, 0, 0, 0, 0, 0, 0, 0, 0, 0, 0, 1, 0, 0, 1,\n",
              "        1, 1])"
            ]
          },
          "metadata": {
            "tags": []
          },
          "execution_count": 11
        }
      ]
    },
    {
      "cell_type": "code",
      "metadata": {
        "colab_type": "code",
        "id": "3xvi6JHIvtYf",
        "colab": {}
      },
      "source": [
        "val_loss = np.zeros(num_epochs)\n",
        "train_loss = np.zeros(num_epochs)\n",
        "\n",
        "val_acc = np.zeros(num_epochs)\n",
        "train_acc = np.zeros(num_epochs)\n",
        "\n",
        "\n",
        "def train_model(model, loss, optimizer, scheduler, num_epochs):\n",
        "\n",
        "    for epoch in range(num_epochs):\n",
        "\n",
        "        print('Epoch {}/{}:'.format(epoch, num_epochs - 1), flush=True)\n",
        "\n",
        "        # Each epoch has a training and validation phase\n",
        "        for phase in ['train', 'val']:\n",
        "            if phase == 'train':\n",
        "                dataloader = train_dataloader\n",
        "                scheduler.step()\n",
        "                model.train()  # training mode\n",
        "                history_acc = train_acc\n",
        "                history_loss = train_loss\n",
        "            else:\n",
        "                dataloader = val_dataloader\n",
        "                model.eval()   # evaluate mode (dropout + bn)\n",
        "                history_acc = val_acc\n",
        "                history_loss = val_loss\n",
        "\n",
        "            running_loss = 0.\n",
        "            running_acc = 0.\n",
        "\n",
        "            # Iterate over data.\n",
        "            for inputs, labels in dataloader:\n",
        "                #print(inputs, labels)\n",
        "                inputs = inputs.to(device)\n",
        "                labels = labels.to(device)\n",
        "\n",
        "                optimizer.zero_grad()\n",
        "\n",
        "                # forward and backward\n",
        "                with torch.set_grad_enabled(phase=='train'):\n",
        "                    preds = model(inputs)\n",
        "                    loss_value = loss(preds, labels)\n",
        "                    preds_class = preds.argmax(dim=1)\n",
        "\n",
        "                    # backward + optimize only if in training phase\n",
        "                    if phase == 'train':\n",
        "                        loss_value.backward()\n",
        "                        optimizer.step()\n",
        "\n",
        "                # statistics\n",
        "                running_loss += loss_value.cpu().item()\n",
        "                running_acc += (preds_class.cpu() == labels.cpu().data).float().mean()\n",
        "            \n",
        "            epoch_loss = running_loss / len(dataloader)\n",
        "            epoch_acc = running_acc / len(dataloader)\n",
        "            history_acc[epoch] = epoch_acc\n",
        "            history_loss[epoch] = epoch_loss\n",
        "\n",
        "\n",
        "            print('{} Loss: {:.4f} Acc: {:.4f}\\n'.format(phase, epoch_loss, epoch_acc), flush=True)"
      ],
      "execution_count": 0,
      "outputs": []
    },
    {
      "cell_type": "markdown",
      "metadata": {
        "colab_type": "text",
        "id": "ZBWMFis9vtYl"
      },
      "source": [
        "## Обучение сети VGG16 с последним линейным слоем"
      ]
    },
    {
      "cell_type": "code",
      "metadata": {
        "colab_type": "code",
        "id": "SdMijbdMvtYn",
        "colab": {
          "base_uri": "https://localhost:8080/",
          "height": 83,
          "referenced_widgets": [
            "070b564305cb4c9192159f0ef88818dd",
            "e4c000e44f654822ba55d38399efba57",
            "7f42df34aaa34bcc822eaba494ce7b37",
            "39cf2e22e8074f5395266c1029e3309e",
            "6431a305c7e742aeb0226127c1cb6d20",
            "80f9f418c0bb437cbd38d54079a830c7",
            "4cd1f0c6ed4149e582c09512d0560602",
            "f9e3b9a5d2c84aa988fb6047f5350db9"
          ]
        },
        "outputId": "db784815-1da6-4475-fbc5-80e1d62d58bb"
      },
      "source": [
        "resnet = models.resnet152(pretrained=True)\n",
        "#vgg = models.vgg16(pretrained=True)\n",
        "#model.fc = torch.nn.Linear(model.fc.in_features, 2)"
      ],
      "execution_count": 13,
      "outputs": [
        {
          "output_type": "stream",
          "text": [
            "Downloading: \"https://download.pytorch.org/models/resnet152-b121ed2d.pth\" to /root/.cache/torch/checkpoints/resnet152-b121ed2d.pth\n"
          ],
          "name": "stderr"
        },
        {
          "output_type": "display_data",
          "data": {
            "application/vnd.jupyter.widget-view+json": {
              "model_id": "070b564305cb4c9192159f0ef88818dd",
              "version_minor": 0,
              "version_major": 2
            },
            "text/plain": [
              "HBox(children=(FloatProgress(value=0.0, max=241530880.0), HTML(value='')))"
            ]
          },
          "metadata": {
            "tags": []
          }
        },
        {
          "output_type": "stream",
          "text": [
            "\n"
          ],
          "name": "stdout"
        }
      ]
    },
    {
      "cell_type": "code",
      "metadata": {
        "colab_type": "code",
        "id": "WcBXFH0iOrnQ",
        "outputId": "caf6dfe9-e9e8-422b-b54e-9d8becf4fc75",
        "colab": {
          "base_uri": "https://localhost:8080/",
          "height": 136
        }
      },
      "source": [
        "list(vgg.classifier.children())"
      ],
      "execution_count": 11,
      "outputs": [
        {
          "output_type": "execute_result",
          "data": {
            "text/plain": [
              "[Linear(in_features=25088, out_features=4096, bias=True),\n",
              " ReLU(inplace=True),\n",
              " Dropout(p=0.5, inplace=False),\n",
              " Linear(in_features=4096, out_features=4096, bias=True),\n",
              " ReLU(inplace=True),\n",
              " Dropout(p=0.5, inplace=False),\n",
              " Linear(in_features=4096, out_features=1000, bias=True)]"
            ]
          },
          "metadata": {
            "tags": []
          },
          "execution_count": 11
        }
      ]
    },
    {
      "cell_type": "code",
      "metadata": {
        "colab_type": "code",
        "id": "ZvG9WBhNO7XP",
        "colab": {}
      },
      "source": [
        "num_features = vgg.classifier[6].in_features\n",
        "features = list(vgg.classifier.children())[:-1] # Remove last layer\n",
        "features.extend([torch.nn.Linear(num_features, 2)]) # Add our layer with 2 outputs\n",
        "vgg.classifier = torch.nn.Sequential(*features)"
      ],
      "execution_count": 0,
      "outputs": []
    },
    {
      "cell_type": "code",
      "metadata": {
        "id": "4gS9EwNo3Z9c",
        "colab_type": "code",
        "colab": {}
      },
      "source": [
        "resnet.fc = torch.nn.Linear(resnet.fc.in_features, 2)"
      ],
      "execution_count": 0,
      "outputs": []
    },
    {
      "cell_type": "code",
      "metadata": {
        "colab_type": "code",
        "id": "56VNR6QcPaZM",
        "outputId": "74e01689-c07e-4d2a-9805-9d5fcef05efe",
        "colab": {
          "base_uri": "https://localhost:8080/",
          "height": 1000
        }
      },
      "source": [
        "device = torch.device(\"cuda:0\" if torch.cuda.is_available() else \"cpu\")\n",
        "print(device)\n",
        "resnet = resnet.to(device)\n",
        "\n",
        "loss = torch.nn.CrossEntropyLoss()\n",
        "#optimizer = torch.optim.Adam(model.parameters(), lr=1e-3)\n",
        "optimizer = torch.optim.Adam(resnet.parameters(), lr=lr)\n",
        "\n",
        "# Decay LR by a factor of 0.5 every 20 epochs\n",
        "scheduler = torch.optim.lr_scheduler.StepLR(optimizer, step_size=25, gamma=0.5)\n",
        "#scheduler = torch.optim.lr_scheduler.CosineAnnealingWarmRestarts(\n",
        "#    optimizer,\n",
        "#    T_0=num_epochs//2,\n",
        "#    eta_min=1e-10)\n",
        "\n",
        "train_model(resnet, loss, optimizer, scheduler, num_epochs=num_epochs)"
      ],
      "execution_count": 19,
      "outputs": [
        {
          "output_type": "stream",
          "text": [
            "cuda:0\n",
            "Epoch 0/99:\n"
          ],
          "name": "stdout"
        },
        {
          "output_type": "stream",
          "text": [
            "/usr/local/lib/python3.6/dist-packages/torch/optim/lr_scheduler.py:123: UserWarning: Detected call of `lr_scheduler.step()` before `optimizer.step()`. In PyTorch 1.1.0 and later, you should call them in the opposite order: `optimizer.step()` before `lr_scheduler.step()`.  Failure to do this will result in PyTorch skipping the first value of the learning rate schedule. See more details at https://pytorch.org/docs/stable/optim.html#how-to-adjust-learning-rate\n",
            "  \"https://pytorch.org/docs/stable/optim.html#how-to-adjust-learning-rate\", UserWarning)\n"
          ],
          "name": "stderr"
        },
        {
          "output_type": "stream",
          "text": [
            "train Loss: 0.1240 Acc: 0.9558\n",
            "\n",
            "val Loss: 0.2097 Acc: 0.9250\n",
            "\n",
            "Epoch 1/99:\n",
            "train Loss: 0.0731 Acc: 0.9767\n",
            "\n",
            "val Loss: 0.3053 Acc: 0.9075\n",
            "\n",
            "Epoch 2/99:\n",
            "train Loss: 0.0447 Acc: 0.9833\n",
            "\n",
            "val Loss: 0.1280 Acc: 0.9350\n",
            "\n",
            "Epoch 3/99:\n",
            "train Loss: 0.0395 Acc: 0.9858\n",
            "\n",
            "val Loss: 0.4551 Acc: 0.9050\n",
            "\n",
            "Epoch 4/99:\n",
            "train Loss: 0.0441 Acc: 0.9817\n",
            "\n",
            "val Loss: 0.2450 Acc: 0.8975\n",
            "\n",
            "Epoch 5/99:\n",
            "train Loss: 0.0446 Acc: 0.9858\n",
            "\n",
            "val Loss: 0.5676 Acc: 0.8375\n",
            "\n",
            "Epoch 6/99:\n",
            "train Loss: 0.0428 Acc: 0.9833\n",
            "\n",
            "val Loss: 0.2963 Acc: 0.9150\n",
            "\n",
            "Epoch 7/99:\n",
            "train Loss: 0.0228 Acc: 0.9925\n",
            "\n",
            "val Loss: 0.4199 Acc: 0.8825\n",
            "\n",
            "Epoch 8/99:\n",
            "train Loss: 0.0379 Acc: 0.9858\n",
            "\n",
            "val Loss: 0.2464 Acc: 0.9125\n",
            "\n",
            "Epoch 9/99:\n",
            "train Loss: 0.0243 Acc: 0.9908\n",
            "\n",
            "val Loss: 1.1577 Acc: 0.7400\n",
            "\n",
            "Epoch 10/99:\n",
            "train Loss: 0.0331 Acc: 0.9883\n",
            "\n",
            "val Loss: 0.1859 Acc: 0.9400\n",
            "\n",
            "Epoch 11/99:\n",
            "train Loss: 0.0119 Acc: 0.9958\n",
            "\n",
            "val Loss: 0.0534 Acc: 0.9700\n",
            "\n",
            "Epoch 12/99:\n",
            "train Loss: 0.0296 Acc: 0.9883\n",
            "\n",
            "val Loss: 0.2567 Acc: 0.9225\n",
            "\n",
            "Epoch 13/99:\n",
            "train Loss: 0.0345 Acc: 0.9892\n",
            "\n",
            "val Loss: 0.1907 Acc: 0.9125\n",
            "\n",
            "Epoch 14/99:\n",
            "train Loss: 0.0094 Acc: 0.9967\n",
            "\n",
            "val Loss: 0.2963 Acc: 0.9025\n",
            "\n",
            "Epoch 15/99:\n",
            "train Loss: 0.0206 Acc: 0.9950\n",
            "\n",
            "val Loss: 0.2144 Acc: 0.9200\n",
            "\n",
            "Epoch 16/99:\n",
            "train Loss: 0.0289 Acc: 0.9883\n",
            "\n",
            "val Loss: 0.0762 Acc: 0.9600\n",
            "\n",
            "Epoch 17/99:\n",
            "train Loss: 0.0148 Acc: 0.9958\n",
            "\n",
            "val Loss: 0.4883 Acc: 0.8275\n",
            "\n",
            "Epoch 18/99:\n",
            "train Loss: 0.0103 Acc: 0.9933\n",
            "\n",
            "val Loss: 0.2809 Acc: 0.9225\n",
            "\n",
            "Epoch 19/99:\n",
            "train Loss: 0.0054 Acc: 0.9983\n",
            "\n",
            "val Loss: 0.1362 Acc: 0.9450\n",
            "\n",
            "Epoch 20/99:\n",
            "train Loss: 0.0071 Acc: 0.9958\n",
            "\n",
            "val Loss: 0.1041 Acc: 0.9550\n",
            "\n",
            "Epoch 21/99:\n",
            "train Loss: 0.0133 Acc: 0.9950\n",
            "\n",
            "val Loss: 0.5835 Acc: 0.9175\n",
            "\n",
            "Epoch 22/99:\n",
            "train Loss: 0.0155 Acc: 0.9950\n",
            "\n",
            "val Loss: 0.1162 Acc: 0.9325\n",
            "\n",
            "Epoch 23/99:\n",
            "train Loss: 0.0070 Acc: 0.9975\n",
            "\n",
            "val Loss: 0.1585 Acc: 0.9525\n",
            "\n",
            "Epoch 24/99:\n",
            "train Loss: 0.0037 Acc: 0.9992\n",
            "\n",
            "val Loss: 0.0549 Acc: 0.9750\n",
            "\n",
            "Epoch 25/99:\n",
            "train Loss: 0.0013 Acc: 1.0000\n",
            "\n",
            "val Loss: 0.2778 Acc: 0.9250\n",
            "\n",
            "Epoch 26/99:\n",
            "train Loss: 0.0015 Acc: 0.9992\n",
            "\n",
            "val Loss: 0.2227 Acc: 0.9350\n",
            "\n",
            "Epoch 27/99:\n",
            "train Loss: 0.0005 Acc: 1.0000\n",
            "\n",
            "val Loss: 0.1438 Acc: 0.9575\n",
            "\n",
            "Epoch 28/99:\n",
            "train Loss: 0.0013 Acc: 0.9992\n",
            "\n",
            "val Loss: 0.1662 Acc: 0.9500\n",
            "\n",
            "Epoch 29/99:\n",
            "train Loss: 0.0003 Acc: 1.0000\n",
            "\n",
            "val Loss: 0.1310 Acc: 0.9600\n",
            "\n",
            "Epoch 30/99:\n",
            "train Loss: 0.0031 Acc: 0.9992\n",
            "\n",
            "val Loss: 0.1220 Acc: 0.9675\n",
            "\n",
            "Epoch 31/99:\n",
            "train Loss: 0.0029 Acc: 0.9992\n",
            "\n",
            "val Loss: 0.1487 Acc: 0.9575\n",
            "\n",
            "Epoch 32/99:\n",
            "train Loss: 0.0009 Acc: 1.0000\n",
            "\n",
            "val Loss: 0.1526 Acc: 0.9525\n",
            "\n",
            "Epoch 33/99:\n",
            "train Loss: 0.0006 Acc: 1.0000\n",
            "\n",
            "val Loss: 0.1997 Acc: 0.9400\n",
            "\n",
            "Epoch 34/99:\n",
            "train Loss: 0.0003 Acc: 1.0000\n",
            "\n",
            "val Loss: 0.1409 Acc: 0.9525\n",
            "\n",
            "Epoch 35/99:\n",
            "train Loss: 0.0007 Acc: 1.0000\n",
            "\n",
            "val Loss: 0.2265 Acc: 0.9425\n",
            "\n",
            "Epoch 36/99:\n",
            "train Loss: 0.0007 Acc: 1.0000\n",
            "\n",
            "val Loss: 0.0381 Acc: 0.9825\n",
            "\n",
            "Epoch 37/99:\n",
            "train Loss: 0.0004 Acc: 1.0000\n",
            "\n",
            "val Loss: 0.1507 Acc: 0.9500\n",
            "\n",
            "Epoch 38/99:\n",
            "train Loss: 0.0004 Acc: 1.0000\n",
            "\n",
            "val Loss: 0.1531 Acc: 0.9500\n",
            "\n",
            "Epoch 39/99:\n",
            "train Loss: 0.0007 Acc: 1.0000\n",
            "\n",
            "val Loss: 0.0362 Acc: 0.9850\n",
            "\n",
            "Epoch 40/99:\n",
            "train Loss: 0.0003 Acc: 1.0000\n",
            "\n",
            "val Loss: 0.1789 Acc: 0.9475\n",
            "\n",
            "Epoch 41/99:\n",
            "train Loss: 0.0004 Acc: 1.0000\n",
            "\n",
            "val Loss: 0.2585 Acc: 0.9375\n",
            "\n",
            "Epoch 42/99:\n",
            "train Loss: 0.0001 Acc: 1.0000\n",
            "\n",
            "val Loss: 0.2068 Acc: 0.9450\n",
            "\n",
            "Epoch 43/99:\n",
            "train Loss: 0.0001 Acc: 1.0000\n",
            "\n",
            "val Loss: 0.2004 Acc: 0.9450\n",
            "\n",
            "Epoch 44/99:\n",
            "train Loss: 0.0001 Acc: 1.0000\n",
            "\n",
            "val Loss: 0.1748 Acc: 0.9475\n",
            "\n",
            "Epoch 45/99:\n",
            "train Loss: 0.0001 Acc: 1.0000\n",
            "\n",
            "val Loss: 0.2192 Acc: 0.9400\n",
            "\n",
            "Epoch 46/99:\n",
            "train Loss: 0.0001 Acc: 1.0000\n",
            "\n",
            "val Loss: 0.1894 Acc: 0.9475\n",
            "\n",
            "Epoch 47/99:\n",
            "train Loss: 0.0001 Acc: 1.0000\n",
            "\n",
            "val Loss: 0.2226 Acc: 0.9450\n",
            "\n",
            "Epoch 48/99:\n",
            "train Loss: 0.0001 Acc: 1.0000\n",
            "\n",
            "val Loss: 0.1809 Acc: 0.9475\n",
            "\n",
            "Epoch 49/99:\n",
            "train Loss: 0.0006 Acc: 1.0000\n",
            "\n",
            "val Loss: 0.2601 Acc: 0.9350\n",
            "\n",
            "Epoch 50/99:\n",
            "train Loss: 0.0001 Acc: 1.0000\n",
            "\n",
            "val Loss: 0.2165 Acc: 0.9475\n",
            "\n",
            "Epoch 51/99:\n",
            "train Loss: 0.0002 Acc: 1.0000\n",
            "\n",
            "val Loss: 0.1929 Acc: 0.9500\n",
            "\n",
            "Epoch 52/99:\n",
            "train Loss: 0.0001 Acc: 1.0000\n",
            "\n",
            "val Loss: 0.1872 Acc: 0.9450\n",
            "\n",
            "Epoch 53/99:\n",
            "train Loss: 0.0001 Acc: 1.0000\n",
            "\n",
            "val Loss: 0.1721 Acc: 0.9550\n",
            "\n",
            "Epoch 54/99:\n",
            "train Loss: 0.0001 Acc: 1.0000\n",
            "\n",
            "val Loss: 0.1516 Acc: 0.9550\n",
            "\n",
            "Epoch 55/99:\n",
            "train Loss: 0.0001 Acc: 1.0000\n",
            "\n",
            "val Loss: 0.1707 Acc: 0.9525\n",
            "\n",
            "Epoch 56/99:\n",
            "train Loss: 0.0001 Acc: 1.0000\n",
            "\n",
            "val Loss: 0.1801 Acc: 0.9550\n",
            "\n",
            "Epoch 57/99:\n",
            "train Loss: 0.0000 Acc: 1.0000\n",
            "\n",
            "val Loss: 0.1757 Acc: 0.9525\n",
            "\n",
            "Epoch 58/99:\n",
            "train Loss: 0.0000 Acc: 1.0000\n",
            "\n",
            "val Loss: 0.1753 Acc: 0.9525\n",
            "\n",
            "Epoch 59/99:\n",
            "train Loss: 0.0000 Acc: 1.0000\n",
            "\n",
            "val Loss: 0.1917 Acc: 0.9475\n",
            "\n",
            "Epoch 60/99:\n",
            "train Loss: 0.0000 Acc: 1.0000\n",
            "\n",
            "val Loss: 0.1666 Acc: 0.9550\n",
            "\n",
            "Epoch 61/99:\n",
            "train Loss: 0.0002 Acc: 1.0000\n",
            "\n",
            "val Loss: 0.1452 Acc: 0.9550\n",
            "\n",
            "Epoch 62/99:\n",
            "train Loss: 0.0003 Acc: 1.0000\n",
            "\n",
            "val Loss: 0.1888 Acc: 0.9475\n",
            "\n",
            "Epoch 63/99:\n",
            "train Loss: 0.0002 Acc: 1.0000\n",
            "\n",
            "val Loss: 0.1913 Acc: 0.9475\n",
            "\n",
            "Epoch 64/99:\n",
            "train Loss: 0.0000 Acc: 1.0000\n",
            "\n",
            "val Loss: 0.1883 Acc: 0.9475\n",
            "\n",
            "Epoch 65/99:\n",
            "train Loss: 0.0011 Acc: 0.9992\n",
            "\n",
            "val Loss: 0.4107 Acc: 0.9150\n",
            "\n",
            "Epoch 66/99:\n",
            "train Loss: 0.0163 Acc: 0.9975\n",
            "\n",
            "val Loss: 0.0734 Acc: 0.9675\n",
            "\n",
            "Epoch 67/99:\n"
          ],
          "name": "stdout"
        },
        {
          "output_type": "error",
          "ename": "KeyboardInterrupt",
          "evalue": "ignored",
          "traceback": [
            "\u001b[0;31m---------------------------------------------------------------------------\u001b[0m",
            "\u001b[0;31mKeyboardInterrupt\u001b[0m                         Traceback (most recent call last)",
            "\u001b[0;32m<ipython-input-19-f053be1a0f2b>\u001b[0m in \u001b[0;36m<module>\u001b[0;34m()\u001b[0m\n\u001b[1;32m     14\u001b[0m \u001b[0;31m#    eta_min=1e-10)\u001b[0m\u001b[0;34m\u001b[0m\u001b[0;34m\u001b[0m\u001b[0;34m\u001b[0m\u001b[0m\n\u001b[1;32m     15\u001b[0m \u001b[0;34m\u001b[0m\u001b[0m\n\u001b[0;32m---> 16\u001b[0;31m \u001b[0mtrain_model\u001b[0m\u001b[0;34m(\u001b[0m\u001b[0mresnet\u001b[0m\u001b[0;34m,\u001b[0m \u001b[0mloss\u001b[0m\u001b[0;34m,\u001b[0m \u001b[0moptimizer\u001b[0m\u001b[0;34m,\u001b[0m \u001b[0mscheduler\u001b[0m\u001b[0;34m,\u001b[0m \u001b[0mnum_epochs\u001b[0m\u001b[0;34m=\u001b[0m\u001b[0mnum_epochs\u001b[0m\u001b[0;34m)\u001b[0m\u001b[0;34m\u001b[0m\u001b[0;34m\u001b[0m\u001b[0m\n\u001b[0m",
            "\u001b[0;32m<ipython-input-18-c07d5a7fdd06>\u001b[0m in \u001b[0;36mtrain_model\u001b[0;34m(model, loss, optimizer, scheduler, num_epochs)\u001b[0m\n\u001b[1;32m     45\u001b[0m                     \u001b[0;31m# backward + optimize only if in training phase\u001b[0m\u001b[0;34m\u001b[0m\u001b[0;34m\u001b[0m\u001b[0;34m\u001b[0m\u001b[0m\n\u001b[1;32m     46\u001b[0m                     \u001b[0;32mif\u001b[0m \u001b[0mphase\u001b[0m \u001b[0;34m==\u001b[0m \u001b[0;34m'train'\u001b[0m\u001b[0;34m:\u001b[0m\u001b[0;34m\u001b[0m\u001b[0;34m\u001b[0m\u001b[0m\n\u001b[0;32m---> 47\u001b[0;31m                         \u001b[0mloss_value\u001b[0m\u001b[0;34m.\u001b[0m\u001b[0mbackward\u001b[0m\u001b[0;34m(\u001b[0m\u001b[0;34m)\u001b[0m\u001b[0;34m\u001b[0m\u001b[0;34m\u001b[0m\u001b[0m\n\u001b[0m\u001b[1;32m     48\u001b[0m                         \u001b[0moptimizer\u001b[0m\u001b[0;34m.\u001b[0m\u001b[0mstep\u001b[0m\u001b[0;34m(\u001b[0m\u001b[0;34m)\u001b[0m\u001b[0;34m\u001b[0m\u001b[0;34m\u001b[0m\u001b[0m\n\u001b[1;32m     49\u001b[0m \u001b[0;34m\u001b[0m\u001b[0m\n",
            "\u001b[0;32m/usr/local/lib/python3.6/dist-packages/torch/tensor.py\u001b[0m in \u001b[0;36mbackward\u001b[0;34m(self, gradient, retain_graph, create_graph)\u001b[0m\n\u001b[1;32m    196\u001b[0m                 \u001b[0mproducts\u001b[0m\u001b[0;34m.\u001b[0m \u001b[0mDefaults\u001b[0m \u001b[0mto\u001b[0m\u001b[0;31m \u001b[0m\u001b[0;31m`\u001b[0m\u001b[0;31m`\u001b[0m\u001b[0;32mFalse\u001b[0m\u001b[0;31m`\u001b[0m\u001b[0;31m`\u001b[0m\u001b[0;34m.\u001b[0m\u001b[0;34m\u001b[0m\u001b[0;34m\u001b[0m\u001b[0m\n\u001b[1;32m    197\u001b[0m         \"\"\"\n\u001b[0;32m--> 198\u001b[0;31m         \u001b[0mtorch\u001b[0m\u001b[0;34m.\u001b[0m\u001b[0mautograd\u001b[0m\u001b[0;34m.\u001b[0m\u001b[0mbackward\u001b[0m\u001b[0;34m(\u001b[0m\u001b[0mself\u001b[0m\u001b[0;34m,\u001b[0m \u001b[0mgradient\u001b[0m\u001b[0;34m,\u001b[0m \u001b[0mretain_graph\u001b[0m\u001b[0;34m,\u001b[0m \u001b[0mcreate_graph\u001b[0m\u001b[0;34m)\u001b[0m\u001b[0;34m\u001b[0m\u001b[0;34m\u001b[0m\u001b[0m\n\u001b[0m\u001b[1;32m    199\u001b[0m \u001b[0;34m\u001b[0m\u001b[0m\n\u001b[1;32m    200\u001b[0m     \u001b[0;32mdef\u001b[0m \u001b[0mregister_hook\u001b[0m\u001b[0;34m(\u001b[0m\u001b[0mself\u001b[0m\u001b[0;34m,\u001b[0m \u001b[0mhook\u001b[0m\u001b[0;34m)\u001b[0m\u001b[0;34m:\u001b[0m\u001b[0;34m\u001b[0m\u001b[0;34m\u001b[0m\u001b[0m\n",
            "\u001b[0;32m/usr/local/lib/python3.6/dist-packages/torch/autograd/__init__.py\u001b[0m in \u001b[0;36mbackward\u001b[0;34m(tensors, grad_tensors, retain_graph, create_graph, grad_variables)\u001b[0m\n\u001b[1;32m     98\u001b[0m     Variable._execution_engine.run_backward(\n\u001b[1;32m     99\u001b[0m         \u001b[0mtensors\u001b[0m\u001b[0;34m,\u001b[0m \u001b[0mgrad_tensors\u001b[0m\u001b[0;34m,\u001b[0m \u001b[0mretain_graph\u001b[0m\u001b[0;34m,\u001b[0m \u001b[0mcreate_graph\u001b[0m\u001b[0;34m,\u001b[0m\u001b[0;34m\u001b[0m\u001b[0;34m\u001b[0m\u001b[0m\n\u001b[0;32m--> 100\u001b[0;31m         allow_unreachable=True)  # allow_unreachable flag\n\u001b[0m\u001b[1;32m    101\u001b[0m \u001b[0;34m\u001b[0m\u001b[0m\n\u001b[1;32m    102\u001b[0m \u001b[0;34m\u001b[0m\u001b[0m\n",
            "\u001b[0;31mKeyboardInterrupt\u001b[0m: "
          ]
        }
      ]
    },
    {
      "cell_type": "code",
      "metadata": {
        "colab_type": "code",
        "id": "cWKIx-nRgWeJ",
        "colab": {}
      },
      "source": [
        ""
      ],
      "execution_count": 0,
      "outputs": []
    },
    {
      "cell_type": "markdown",
      "metadata": {
        "colab_type": "text",
        "id": "k01DUrg1vtY1"
      },
      "source": [
        "## PLOT Train and Val loss"
      ]
    },
    {
      "cell_type": "code",
      "metadata": {
        "id": "ysIW4Srv852x",
        "colab_type": "code",
        "colab": {}
      },
      "source": [
        "train_loss = train_loss[train_loss > 0]\n",
        "tl_shape = train_loss.shape[0]\n",
        "\n",
        "train_acc = train_acc[train_acc > 0]\n",
        "tc_shape = train_acc.shape[0]"
      ],
      "execution_count": 0,
      "outputs": []
    },
    {
      "cell_type": "code",
      "metadata": {
        "id": "nu7rjBY3AuWA",
        "colab_type": "code",
        "colab": {
          "base_uri": "https://localhost:8080/",
          "height": 34
        },
        "outputId": "49745f80-6a73-4c9c-ba6d-03980c63c5ea"
      },
      "source": [
        "train_loss.shape"
      ],
      "execution_count": 27,
      "outputs": [
        {
          "output_type": "execute_result",
          "data": {
            "text/plain": [
              "(100,)"
            ]
          },
          "metadata": {
            "tags": []
          },
          "execution_count": 27
        }
      ]
    },
    {
      "cell_type": "code",
      "metadata": {
        "id": "Fjdv3diG_Pwi",
        "colab_type": "code",
        "colab": {}
      },
      "source": [
        "val_loss = val_loss[val_loss > 0]\n",
        "val_acc = val_acc[val_acc > 0]"
      ],
      "execution_count": 0,
      "outputs": []
    },
    {
      "cell_type": "code",
      "metadata": {
        "id": "WfCQQvTE_lmp",
        "colab_type": "code",
        "outputId": "5cd73e63-ba40-48cc-ef2e-43e7bd4c9180",
        "colab": {
          "base_uri": "https://localhost:8080/",
          "height": 312
        }
      },
      "source": [
        "# Loss\n",
        "plt.plot(range(56), train_loss[:56], val_loss[:56])\n",
        "plt.legend(['train', 'val'])\n",
        "plt.xlabel('epoch')\n",
        "plt.ylabel('cross entropy loss')\n",
        "plt.title('loss')\n"
      ],
      "execution_count": 20,
      "outputs": [
        {
          "output_type": "execute_result",
          "data": {
            "text/plain": [
              "Text(0.5, 1.0, 'loss')"
            ]
          },
          "metadata": {
            "tags": []
          },
          "execution_count": 20
        },
        {
          "output_type": "display_data",
          "data": {
            "image/png": "[encoded data removed]",
            "text/plain": [
              "<Figure size 432x288 with 1 Axes>"
            ]
          },
          "metadata": {
            "tags": [],
            "needs_background": "light"
          }
        }
      ]
    },
    {
      "cell_type": "code",
      "metadata": {
        "id": "2L3jLDxe_-21",
        "colab_type": "code",
        "outputId": "432f538c-f6d1-4c4e-a3ae-812118be1bb8",
        "colab": {
          "base_uri": "https://localhost:8080/",
          "height": 312
        }
      },
      "source": [
        "# accuracy\n",
        "plt.plot(range(56), train_acc[:56], val_acc[:56])\n",
        "plt.legend(['train', 'val'])\n",
        "plt.xlabel('epoch')\n",
        "plt.ylabel('cross entropy loss')\n",
        "plt.title('accuracy')\n"
      ],
      "execution_count": 21,
      "outputs": [
        {
          "output_type": "execute_result",
          "data": {
            "text/plain": [
              "Text(0.5, 1.0, 'accuracy')"
            ]
          },
          "metadata": {
            "tags": []
          },
          "execution_count": 21
        },
        {
          "output_type": "display_data",
          "data": {
            "image/png": "[encoded data removed]",
            "text/plain": [
              "<Figure size 432x288 with 1 Axes>"
            ]
          },
          "metadata": {
            "tags": [],
            "needs_background": "light"
          }
        }
      ]
    },
    {
      "cell_type": "code",
      "metadata": {
        "colab_type": "code",
        "id": "fwt_yi6eXHVq",
        "colab": {}
      },
      "source": [
        "$"
      ],
      "execution_count": 0,
      "outputs": []
    },
    {
      "cell_type": "markdown",
      "metadata": {
        "colab_type": "text",
        "id": "3BleDOHQXWt6"
      },
      "source": [
        "## Тестовая выборка и data loader"
      ]
    },
    {
      "cell_type": "code",
      "metadata": {
        "colab_type": "code",
        "id": "bkrqodMXXHY3",
        "colab": {}
      },
      "source": [
        "test_paths = im_paths[20:30]\n",
        "test_dataset = ImageDataset(test_paths, val_transforms)\n",
        "test_dataloader = torch.utils.data.DataLoader(\n",
        "    test_dataset, batch_size=10, shuffle=True, num_workers=0)"
      ],
      "execution_count": 0,
      "outputs": []
    },
    {
      "cell_type": "markdown",
      "metadata": {
        "colab_type": "text",
        "id": "HAvmP4RhYlAz"
      },
      "source": [
        "## Загрузка обученной модели"
      ]
    },
    {
      "cell_type": "code",
      "metadata": {
        "colab_type": "code",
        "id": "BUbzuJrbYjzI",
        "outputId": "f7a4094d-324c-4613-c96e-9ede82b52c00",
        "colab": {
          "base_uri": "https://localhost:8080/",
          "height": 34
        }
      },
      "source": [
        "params_dict = torch.load('drive/My Drive/dl_noise_classification/20_train_500_epochs_vgg_best_val')\n",
        "#model = models.resnet152(pretrained=False)\n",
        "#model.fc = torch.nn.Linear(model.fc.in_features, 2)\n",
        "model.load_state_dict(params_dict)\n",
        "model.eval()\n",
        "\n",
        "num_features = model.classifier[6].in_features\n",
        "features = list(model.classifier.children())[:-1] # Remove last layer\n",
        "features.extend([torch.nn.Linear(num_features, 2)]) # Add our layer with 2 outputs\n",
        "model.classifier = torch.nn.Sequential(*features)\n",
        "\n",
        "device = torch.device(\"cuda:0\" if torch.cuda.is_available() else \"cpu\")\n",
        "print(device)\n",
        "\n",
        "model = model.to(device)"
      ],
      "execution_count": 0,
      "outputs": [
        {
          "output_type": "stream",
          "text": [
            "cuda:0\n"
          ],
          "name": "stdout"
        }
      ]
    },
    {
      "cell_type": "code",
      "metadata": {
        "colab_type": "code",
        "id": "oHgEjGgwXV2o",
        "outputId": "fff8cea7-14e1-4c37-b56f-61ab27afbdb3",
        "colab": {
          "base_uri": "https://localhost:8080/",
          "height": 34
        }
      },
      "source": [
        "from tqdm import tqdm\n",
        "\n",
        "test_predictions = []\n",
        "test_img_sigmas = []\n",
        "test_true = []\n",
        "for inputs, labels, sigmas in tqdm(test_dataloader):\n",
        "    test_true.append(labels)\n",
        "    inputs = inputs.to(device)\n",
        "    labels = labels.to(device)\n",
        "    with torch.set_grad_enabled(False):\n",
        "        preds = model(inputs)\n",
        "    test_predictions.append(\n",
        "        torch.nn.functional.softmax(preds, dim=1)[:,1].data.cpu().numpy())\n",
        "    test_img_sigmas.extend(sigmas)\n",
        "    \n",
        "y_pred = np.concatenate(test_predictions)\n",
        "y_true = np.concatenate(test_true)"
      ],
      "execution_count": 0,
      "outputs": [
        {
          "output_type": "stream",
          "text": [
            "100%|██████████| 1/1 [00:01<00:00,  1.52s/it]\n"
          ],
          "name": "stderr"
        }
      ]
    },
    {
      "cell_type": "code",
      "metadata": {
        "colab_type": "code",
        "id": "n-of6DHmZXBw",
        "outputId": "73e92d78-319a-43b9-9afa-17800cdf001c",
        "colab": {
          "base_uri": "https://localhost:8080/",
          "height": 51
        }
      },
      "source": [
        "print(y_pred)"
      ],
      "execution_count": 0,
      "outputs": [
        {
          "output_type": "stream",
          "text": [
            "[ 0.5103151  0.5103151  0.5103151  0.5103151  0.5103151  0.5103151\n",
            "  0.5103151  0.5103151  0.5103151  0.5103151]\n"
          ],
          "name": "stdout"
        }
      ]
    },
    {
      "cell_type": "code",
      "metadata": {
        "colab_type": "code",
        "id": "mbvUSRpnadbL",
        "colab": {}
      },
      "source": [
        "from sklearn.metrics import accuracy_score, confusion_matrix, roc_curve, roc_auc_score\n"
      ],
      "execution_count": 0,
      "outputs": []
    },
    {
      "cell_type": "markdown",
      "metadata": {
        "colab_type": "text",
        "id": "j2LXw5XLcBB1"
      },
      "source": [
        "## ROC Curve"
      ]
    },
    {
      "cell_type": "code",
      "metadata": {
        "colab_type": "code",
        "id": "KKKV_vIqcAMy",
        "outputId": "fc82fb69-7b15-4be1-bfae-3d9051665214",
        "colab": {
          "base_uri": "https://localhost:8080/",
          "height": 312
        }
      },
      "source": [
        "fpr, tpr, thresholds = roc_curve(y_true, y_pred, pos_label=1)\n",
        "plt.title('ROC')\n",
        "plt.xlabel('FPR')\n",
        "plt.ylabel('TPR')\n",
        "plt.plot(fpr, tpr)"
      ],
      "execution_count": 0,
      "outputs": [
        {
          "output_type": "execute_result",
          "data": {
            "text/plain": [
              "[<matplotlib.lines.Line2D at 0x7fc06c08de10>]"
            ]
          },
          "metadata": {
            "tags": []
          },
          "execution_count": 40
        },
        {
          "output_type": "display_data",
          "data": {
            "image/png": "[encoded data removed]",
            "text/plain": [
              "<Figure size 432x288 with 1 Axes>"
            ]
          },
          "metadata": {
            "tags": []
          }
        }
      ]
    },
    {
      "cell_type": "code",
      "metadata": {
        "colab_type": "code",
        "id": "zpfn669kdToq",
        "outputId": "462fe9d1-9586-4013-b43e-f6e15fac8b5c",
        "colab": {
          "base_uri": "https://localhost:8080/",
          "height": 34
        }
      },
      "source": [
        "thresholds"
      ],
      "execution_count": 0,
      "outputs": [
        {
          "output_type": "execute_result",
          "data": {
            "text/plain": [
              "array([ 1.5103152,  0.5103151], dtype=float32)"
            ]
          },
          "metadata": {
            "tags": []
          },
          "execution_count": 41
        }
      ]
    },
    {
      "cell_type": "code",
      "metadata": {
        "colab_type": "code",
        "id": "R6e77-iceAth",
        "outputId": "f17e8b03-c4c5-4207-a255-b0a53d566302",
        "colab": {
          "base_uri": "https://localhost:8080/",
          "height": 34
        }
      },
      "source": [
        "y_true"
      ],
      "execution_count": 0,
      "outputs": [
        {
          "output_type": "execute_result",
          "data": {
            "text/plain": [
              "array([0, 0, 1, 0, 1, 0, 1, 1, 1, 0])"
            ]
          },
          "metadata": {
            "tags": []
          },
          "execution_count": 42
        }
      ]
    },
    {
      "cell_type": "code",
      "metadata": {
        "colab_type": "code",
        "id": "XHBM0tNJc4e8",
        "outputId": "72eee8d5-8ec8-4f50-f86b-585f03701583",
        "colab": {
          "base_uri": "https://localhost:8080/",
          "height": 34
        }
      },
      "source": [
        "print(\"AUC: {}\".format(roc_auc_score(y_true, y_pred)))\n"
      ],
      "execution_count": 0,
      "outputs": [
        {
          "output_type": "stream",
          "text": [
            "AUC: 0.5\n"
          ],
          "name": "stdout"
        }
      ]
    },
    {
      "cell_type": "markdown",
      "metadata": {
        "colab_type": "text",
        "id": "v_pkkC-tg8ho"
      },
      "source": [
        "## Точность в зависимости от порога"
      ]
    },
    {
      "cell_type": "code",
      "metadata": {
        "colab_type": "code",
        "id": "mrpFifalfaqL",
        "outputId": "77d3ab85-c1b0-4fd2-a4c7-6a4c028197ed",
        "colab": {
          "base_uri": "https://localhost:8080/",
          "height": 312
        }
      },
      "source": [
        "acc_history = []\n",
        "t_history = []\n",
        "for thresh in thresholds:\n",
        "    y_hat = np.copy(y_pred)\n",
        "    y_hat[y_hat > thresh] = 1\n",
        "    y_hat[y_hat <= thresh] = 0\n",
        "    accuracy = accuracy_score(y_true, y_hat)\n",
        "\n",
        "    t_history.append(thresh)\n",
        "    acc_history.append(accuracy)\n",
        "    #print(\"Accuracy: {}, with threshold: {}\".format(accuracy, thresh))\n",
        "\n",
        "plt.title('Acc with threshold T')\n",
        "plt.xlabel('T')\n",
        "plt.ylabel('Acc')\n",
        "plt.plot(t_history, acc_history)\n"
      ],
      "execution_count": 0,
      "outputs": [
        {
          "output_type": "execute_result",
          "data": {
            "text/plain": [
              "[<matplotlib.lines.Line2D at 0x7fc06c0702b0>]"
            ]
          },
          "metadata": {
            "tags": []
          },
          "execution_count": 44
        },
        {
          "output_type": "display_data",
          "data": {
            "image/png": "[encoded data removed]",
            "text/plain": [
              "<Figure size 432x288 with 1 Axes>"
            ]
          },
          "metadata": {
            "tags": []
          }
        }
      ]
    },
    {
      "cell_type": "code",
      "metadata": {
        "colab_type": "code",
        "id": "bWbwgwTlgaco",
        "outputId": "d0842de3-4ece-4307-aaca-568a4aacbfd8",
        "colab": {
          "base_uri": "https://localhost:8080/",
          "height": 119
        }
      },
      "source": [
        ""
      ],
      "execution_count": 0,
      "outputs": [
        {
          "output_type": "execute_result",
          "data": {
            "text/plain": [
              "array([ 0.47227594,  0.9996625 ,  0.5525067 ,  0.5744043 ,  0.5718775 ,\n",
              "        0.60436624,  0.23836468,  0.659989  ,  0.5298564 ,  0.13553543,\n",
              "        0.36954176,  0.5124735 ,  0.52312505,  0.52708185,  0.5880793 ,\n",
              "        0.45013088,  0.56109136,  0.57235265,  0.5711936 ,  0.12979674,\n",
              "        0.5353847 ,  0.6422717 ,  0.5695753 ,  0.59789217,  0.31670642,\n",
              "        0.54615486,  0.47783807,  0.03903731,  0.5645977 ,  0.5616492 ], dtype=float32)"
            ]
          },
          "metadata": {
            "tags": []
          },
          "execution_count": 63
        }
      ]
    },
    {
      "cell_type": "code",
      "metadata": {
        "colab_type": "code",
        "id": "n95lDa7scdoP",
        "colab": {}
      },
      "source": [
        ""
      ],
      "execution_count": 0,
      "outputs": []
    }
  ]
}